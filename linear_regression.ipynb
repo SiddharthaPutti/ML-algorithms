{
 "cells": [
  {
   "cell_type": "code",
   "execution_count": 113,
   "id": "710c7a1d",
   "metadata": {},
   "outputs": [],
   "source": [
    "import numpy as np \n",
    "import pandas as pd \n",
    "from sklearn.model_selection import train_test_split\n",
    "from tqdm import tqdm\n",
    "import math \n",
    "import matplotlib.pyplot as plt \n",
    "from sklearn.utils import shuffle\n",
    "import random"
   ]
  },
  {
   "cell_type": "code",
   "execution_count": 114,
   "id": "00b8f40a",
   "metadata": {},
   "outputs": [],
   "source": [
    "df= pd.read_csv('C:/Users/sid31/Downloads/New folder/semester 2/machine learning/python exercises/regression/housing.csv')\n"
   ]
  },
  {
   "cell_type": "code",
   "execution_count": 115,
   "id": "63343ea4",
   "metadata": {},
   "outputs": [],
   "source": [
    "class Regressor:\n",
    "    def __init__(self, X, y, tol , learning_rate, iterations, reg_param,SGDiterations,batch_size , gd= False, regp = False, sgd = False):\n",
    "        self.X = X\n",
    "        self.y = y\n",
    "        self.learning_rate = learning_rate\n",
    "        self.iterations = iterations\n",
    "        self.tol = tol \n",
    "        #self.m , self.n = self.X.shape\n",
    "        self.gd = gd\n",
    "        self.iterations_count = []\n",
    "        self.error_seq = []\n",
    "        self.reg_param = reg_param\n",
    "        self.regp = regp\n",
    "        self.sgd = sgd\n",
    "        self.SGDiterations = SGDiterations\n",
    "        self.batch_size = batch_size\n",
    "        \n",
    "    def trainTestSplit(self):\n",
    "        x_train , x_test, y_train, y_test = train_test_split(self.X,self.y, test_size = 0.3, random_state = 0)\n",
    "        return x_train , x_test, y_train, y_test\n",
    "    \n",
    "    def addBias(self,X):\n",
    "        return np.column_stack([np.ones((X.shape[0],1)),X])\n",
    "    \n",
    "    def normData(self,X):\n",
    "        mean = np.mean(X, 0)\n",
    "        std =  np.std(X , 0)\n",
    "        nor =  ( X - mean) / std\n",
    "        x_norm = self.addBias(nor)\n",
    "        return x_norm, mean, std # retrun std and mean so that you need to normalise test data on this mean and std \n",
    "    \n",
    "    def normTestData(self, X, TrainMean, TrainStd):\n",
    "        x_norm = ( X - TrainMean ) / TrainStd\n",
    "        x_norm = self.addBias(x_norm)\n",
    "        return x_norm\n",
    "    \n",
    "    # closed form or normal equation \n",
    "    # find rank of the matrix to see full rank to evaluate invertibility \n",
    "    \n",
    "    def rank(self, X, esp = 1e-21):\n",
    "        u ,s ,vh = np.linalg.svd(X)\n",
    "        # s is diagonol matrix - if all values of s are not 0 and >0 we are good \n",
    "        \n",
    "        return len([x for x in s if abs(s) > esp])\n",
    "    # anathor way to check the rnak of matix\n",
    "    def checkMatrix(self,X):\n",
    "        \n",
    "        x_rank  = np.linalg.matrix_rank(X)\n",
    "        if x_rank == min(X.shape[0], X.shape[1]):\n",
    "            self.fullRank = True\n",
    "            print('Data is full rank')\n",
    "        else:\n",
    "            self.fullRank = False\n",
    "            print('Data not full rank')\n",
    "            \n",
    "    def checkInvertibility(self,X):\n",
    "        if X.shape[0] < X.shape[1]:\n",
    "            self.lowRank = True\n",
    "            print('Data is low rank')\n",
    "        else:\n",
    "            self.lowRank = False\n",
    "            print('Data is not low rank')\n",
    "    \n",
    "    def normalEq(self,X,y):\n",
    "        w = np.linalg.inv(np.dot(X.T,X)).dot(X.T).dot(y)\n",
    "        return w\n",
    "    \n",
    "    def regNormalEquation(self,X,y):\n",
    "        w = np.linalg.inv( np.dot(X.T,X) + self.reg_param * ( np.identity(X.shape[1]) )  ).dot(X.T).dot(y)\n",
    "        return w\n",
    "    \n",
    "    \n",
    "    def gradientDescent(self,X,y):\n",
    "        #error_seq = []\n",
    "        prev_error = float('inf')\n",
    "        \n",
    "        for t in tqdm(range(self.iterations)):\n",
    "            self.w = self.w - self.learning_rate * self.costDerivative(X,y)\n",
    "            cur = self.rmse(X,y)\n",
    "            diff = prev_error - cur\n",
    "            prev_error = cur\n",
    "            self.error_seq.append(cur)\n",
    "            self.iterations_count.append(t)\n",
    "            \n",
    "            if abs(diff) < self.tol: # in real life you need to wait patience* until certain iterations before you break\n",
    "                print(\"model stopped - no further updating\")\n",
    "                break          \n",
    "                \n",
    "    def regGradientDescent(self, X,y):\n",
    "        \n",
    "        prev_error = float('inf')\n",
    "        \n",
    "        for t in tqdm(range(self.iterations)):\n",
    "            w_update = self.w * (1 - self.learning_rate *( self.reg_param / X.shape[0]))\n",
    "            self.w  = w_update - (self.learning_rate  * self.regCostDerivative(X,y))  \n",
    "            cur = self.rmse(X,y)\n",
    "            diff = prev_error - cur\n",
    "            prev_error = cur\n",
    "            self.error_seq.append(cur)\n",
    "            self.iterations_count.append(t)\n",
    "            \n",
    "            if abs(diff) < self.tol: # in real life you need to wait patience* until certain iterations before you break\n",
    "                print(\"model stopped - no further updating\")\n",
    "                break\n",
    "                \n",
    "    def sgradientDescent(self, X, y ,batch_size):\n",
    "        prev_error = float('inf')\n",
    "        \n",
    "        for t in tqdm(range(self.SGDiterations)):\n",
    "            seq = []\n",
    "            idx = np.random.randint(0, X.shape[0], batch_size)\n",
    "            #x_sgd = X[idx]\n",
    "            #y_sgd = y[idx]\n",
    "            #print(x_sgd)\n",
    "            #for i in range(batch_size):\n",
    "            self.w = self.w - self.learning_rate * self.costDerivative(X[idx],y[idx])\n",
    "            cur = self.rmse(X[idx],y[idx])\n",
    "            diff = prev_error - cur\n",
    "            prev_error = cur\n",
    "            #seq.append(cur)\n",
    "            self.error_seq.append(cur)\n",
    "            self.iterations_count.append(t)\n",
    "            \n",
    "            if abs(diff) < self.tol: # in real life you need to wait patience* until certain iterations before you break\n",
    "                print(\"model stopped - no further updating\")\n",
    "                break\n",
    "        \n",
    "    def regSGradientDescent(self,X,y, batch_size):\n",
    "        prev_error = float('inf')\n",
    "        \n",
    "        for t in tqdm(range(self.SGDiterations)):\n",
    "            seq = []\n",
    "            idx = np.random.randint(0, X.shape[0], batch_size)\n",
    "            #x_sgd = X[idx]\n",
    "            #y_sgd = y[idx]\n",
    "            #for i in range(batch_size):\n",
    "            w_update = self.w * (1 - self.learning_rate * (self.reg_param / batch_size ))\n",
    "            self.w  = w_update - (self.learning_rate  * self.regCostDerivative(X[idx],y[idx]))\n",
    "                #self.W = slef.w - self.learning_rate * self.costDerivative(X[i,:],y[i,1])\n",
    "            cur = self.rmse(X[idx],y[idx])\n",
    "            diff = prev_error - cur\n",
    "            prev_error = cur\n",
    "            #seq.append(cur)\n",
    "            #self.error_seq.append(np.mean(seq))\n",
    "            self.error_seq.append(cur)\n",
    "            self.iterations_count.append(t)\n",
    "            \n",
    "            if abs(diff) < self.tol: # in real life you need to wait patience* until certain iterations before you break\n",
    "                print(\"model stopped - no further updating\")\n",
    "                break\n",
    "        \n",
    "            \n",
    "    def sse(self,X,y):\n",
    "        y_hat = self.predict(X)\n",
    "        return ((y_hat - y)**2).sum()\n",
    "    \n",
    "    def rmse(self,X,y):\n",
    "        dum = self.sse(X,y)\n",
    "        return np.sqrt(dum / X.shape[0])\n",
    "    \n",
    "    def predict(self,X):\n",
    "        return X.dot(self.w)\n",
    "    \n",
    "    def costFunc(self,X, y):\n",
    "        return self.sse(X,y)/2\n",
    "    \n",
    "    def regCostFunc(self,X,y):\n",
    "        return ( self.sse(X,y) + (self.reg_param * np.dot(X.T,X).sum()) ) / 2\n",
    "    \n",
    "    def costDerivative(self,X,y):\n",
    "        y_hat = self.predict(X)\n",
    "        return np.dot(y_hat - y , X)\n",
    "    \n",
    "    def regCostDerivative(self,X,y):\n",
    "        y_hat = self.predict(X)\n",
    "        return np.dot(y_hat - y , X) / X.shape[0]\n",
    "    \n",
    "    \n",
    "    def fit(self):\n",
    "        self.x_train , self.x_test, self.y_train, self.y_test = self.trainTestSplit()\n",
    "        self.x_train, self.mean, self.std = self.normData(self.x_train)\n",
    "        self.x_test = self.normTestData(self.x_test, self.mean, self.std)\n",
    "        \n",
    "        self.checkMatrix(self.x_train)\n",
    "        self.checkInvertibility(self.x_train)\n",
    "        \n",
    "        if self.fullRank and not self.lowRank and not self.gd and not self.sgd:\n",
    "            print(\"solving using normal equation...\")\n",
    "            if not self.regp:\n",
    "                print(\"without regularisation\")\n",
    "                self.w = self.normalEq(self.x_train, self.y_train)\n",
    "                \n",
    "            else: \n",
    "                print(\"with regularisation\")\n",
    "                self.w = self.regNormalEquation(self.x_train, self.y_train)\n",
    "            \n",
    "        elif not self.sgd: \n",
    "            print(\"solving using gradient descent...\")\n",
    "            self.w = np.ones(self.x_train.shape[1], dtype = np.float64) *0\n",
    "            \n",
    "            if not self.regp:\n",
    "                print(\"without regularisation \")\n",
    "                self.gradientDescent(self.x_train,self.y_train)\n",
    "                \n",
    "            else: \n",
    "                print(\"with regularisation\")\n",
    "                self.regGradientDescent(self.x_train,self.y_train)\n",
    "                \n",
    "        else: \n",
    "            print(\"solving using stochastic gradient descent...\")\n",
    "            self.w = np.ones(self.x_train.shape[1], dtype = np.float64) *0\n",
    "            \n",
    "            if not self.regp:\n",
    "                print(\"without regularisation \")\n",
    "                \n",
    "                self.sgradientDescent(self.x_train,self.y_train, self.batch_size)\n",
    "                \n",
    "            else: \n",
    "                print(\"with regularisation\")\n",
    "                self.regSGradientDescent(self.x_train,self.y_train, self.batch_size)\n",
    "                \n",
    "                \n",
    "            \n",
    "        print(self.w)\n",
    "        \n",
    "    def plotError(self, figsize=(7,5)):\n",
    "        if not self.sgd and not self.gd:\n",
    "            return\n",
    "        plt.figure(figsize=figsize)\n",
    "        plt.plot(self.iterations_count,self.error_seq)\n",
    "        plt.xlabel('Iterations')\n",
    "        plt.ylabel('Cost')\n",
    "        plt.title(\"Iterations vs Cost\")\n",
    "        plt.show()\n",
    "        \n",
    "    def score(self,X,y):\n",
    "        return 1-(np.sum(((y-self.predict(X))**2))/np.sum((y-np.mean(y))**2))\n",
    "        \n",
    "        "
   ]
  },
  {
   "cell_type": "code",
   "execution_count": 116,
   "id": "6f43de1f",
   "metadata": {},
   "outputs": [
    {
     "name": "stdout",
     "output_type": "stream",
     "text": [
      "Data is full rank\n",
      "Data is not low rank\n",
      "solving using gradient descent...\n",
      "without regularisation \n"
     ]
    },
    {
     "name": "stderr",
     "output_type": "stream",
     "text": [
      "  0%|                                                                            | 30/50000 [00:00<00:01, 29995.02it/s]"
     ]
    },
    {
     "name": "stdout",
     "output_type": "stream",
     "text": [
      "model stopped - no further updating\n",
      "[22.72928728 -0.71502389  0.61050987 -0.1830346   0.76362304 -0.9822018\n",
      "  3.11998658  0.04996472 -1.84225699  0.70895661 -0.3872768  -2.1058927\n",
      "  0.66462073 -3.52549145]\n"
     ]
    },
    {
     "name": "stderr",
     "output_type": "stream",
     "text": [
      "\n"
     ]
    },
    {
     "data": {
      "image/png": "[encoded data removed]",
      "text/plain": [
       "<Figure size 504x360 with 1 Axes>"
      ]
     },
     "metadata": {
      "needs_background": "light"
     },
     "output_type": "display_data"
    }
   ],
   "source": [
    "reg = Regressor(df.values[:,0:-1], df.values[:,-1], learning_rate= 0.0004, tol = 0.005, iterations = 50000, \n",
    "                SGDiterations = 100,reg_param = 0.001, batch_size= 1\n",
    "               , gd = True, regp = False, sgd = False )\n",
    "reg.fit()\n",
    "reg.plotError()"
   ]
  },
  {
   "cell_type": "code",
   "execution_count": 5,
   "id": "328ecf9a",
   "metadata": {},
   "outputs": [
    {
     "data": {
      "text/plain": [
       "0.7162068841225199"
      ]
     },
     "execution_count": 5,
     "metadata": {},
     "output_type": "execute_result"
    }
   ],
   "source": [
    "reg.score(reg.x_test,reg.y_test)"
   ]
  },
  {
   "cell_type": "code",
   "execution_count": 118,
   "id": "0cf8808a",
   "metadata": {},
   "outputs": [
    {
     "name": "stdout",
     "output_type": "stream",
     "text": [
      "Data is full rank\n",
      "Data is not low rank\n",
      "solving using gradient descent...\n",
      "with regularisation\n"
     ]
    },
    {
     "name": "stderr",
     "output_type": "stream",
     "text": [
      " 18%|█████████████                                                             | 8815/50000 [00:00<00:00, 64939.39it/s]"
     ]
    },
    {
     "name": "stdout",
     "output_type": "stream",
     "text": [
      "model stopped - no further updating\n",
      "[ 2.22594042e+01 -6.91003746e-01  5.70315491e-01 -2.32800086e-01\n",
      "  8.04125358e-01 -8.10793147e-01  3.17197805e+00  1.62149146e-02\n",
      " -1.66499818e+00  5.84522936e-01 -3.57736258e-01 -2.08055146e+00\n",
      "  6.55776260e-01 -3.38992518e+00]\n"
     ]
    },
    {
     "name": "stderr",
     "output_type": "stream",
     "text": [
      "\n"
     ]
    },
    {
     "data": {
      "image/png": "[encoded data removed]",
      "text/plain": [
       "<Figure size 504x360 with 1 Axes>"
      ]
     },
     "metadata": {
      "needs_background": "light"
     },
     "output_type": "display_data"
    }
   ],
   "source": [
    "reg_wreg = Regressor(df.values[:,0:-1], df.values[:,-1], learning_rate= 0.0004, tol = 0.00005, iterations = 50000, \n",
    "                SGDiterations = 100,reg_param = 0.01, batch_size= 20\n",
    "               , gd = True, regp = True, sgd = False )\n",
    "reg_wreg.fit()\n",
    "reg_wreg.plotError()"
   ]
  },
  {
   "cell_type": "code",
   "execution_count": 120,
   "id": "fd335519",
   "metadata": {},
   "outputs": [
    {
     "name": "stdout",
     "output_type": "stream",
     "text": [
      "Data is full rank\n",
      "Data is not low rank\n",
      "solving using stochastic gradient descent...\n",
      "without regularisation \n"
     ]
    },
    {
     "name": "stderr",
     "output_type": "stream",
     "text": [
      "100%|█████████████████████████████████████████████████████████████████████████████| 100/100 [00:00<00:00, 27995.62it/s]"
     ]
    },
    {
     "name": "stdout",
     "output_type": "stream",
     "text": [
      "[22.53196133 -0.69071679  0.42458386 -0.26241163  0.91085435 -1.04086158\n",
      "  3.08995432  0.12518351 -1.69661362  0.6526945  -0.31963981 -2.11288368\n",
      "  0.69106109 -3.40845957]\n"
     ]
    },
    {
     "name": "stderr",
     "output_type": "stream",
     "text": [
      "\n"
     ]
    },
    {
     "data": {
      "image/png": "[encoded data removed]",
      "text/plain": [
       "<Figure size 504x360 with 1 Axes>"
      ]
     },
     "metadata": {
      "needs_background": "light"
     },
     "output_type": "display_data"
    }
   ],
   "source": [
    "reg_sgd = Regressor(df.values[:,0:-1], df.values[:,-1], learning_rate= 0.0004, tol = 0.005, iterations = 50000, \n",
    "                SGDiterations = 100,reg_param = 0.001, batch_size= 100\n",
    "               , gd = False, regp = False, sgd = True )\n",
    "reg_sgd.fit()\n",
    "reg_sgd.plotError()"
   ]
  },
  {
   "cell_type": "code",
   "execution_count": 126,
   "id": "0a8a5e91",
   "metadata": {},
   "outputs": [
    {
     "name": "stdout",
     "output_type": "stream",
     "text": [
      "Data is full rank\n",
      "Data is not low rank\n",
      "solving using stochastic gradient descent...\n",
      "with regularisation\n"
     ]
    },
    {
     "name": "stderr",
     "output_type": "stream",
     "text": [
      " 38%|████████████████████████████▉                                              | 1925/5000 [00:00<00:00, 33118.00it/s]"
     ]
    },
    {
     "name": "stdout",
     "output_type": "stream",
     "text": [
      "model stopped - no further updating\n",
      "[12.32374153 -0.56829645  0.51608734 -0.49658605  0.81506961 -0.39772647\n",
      "  2.29619926 -0.26116454 -0.46459191 -0.13787094 -0.48114428 -1.53150571\n",
      "  0.55669856 -2.0964187 ]\n"
     ]
    },
    {
     "name": "stderr",
     "output_type": "stream",
     "text": [
      "\n"
     ]
    },
    {
     "data": {
      "image/png": "[encoded data removed]",
      "text/plain": [
       "<Figure size 504x360 with 1 Axes>"
      ]
     },
     "metadata": {
      "needs_background": "light"
     },
     "output_type": "display_data"
    }
   ],
   "source": [
    "reg_sgd_wreg = Regressor(df.values[:,0:-1], df.values[:,-1], learning_rate= 0.0004, tol = 0.0005, iterations = 50000, \n",
    "                SGDiterations = 5000,reg_param = 0.01, batch_size= 100\n",
    "               , gd = False, regp = True, sgd = True )\n",
    "reg_sgd_wreg.fit()\n",
    "reg_sgd_wreg.plotError()"
   ]
  },
  {
   "cell_type": "code",
   "execution_count": 122,
   "id": "22ac14ec",
   "metadata": {},
   "outputs": [
    {
     "name": "stdout",
     "output_type": "stream",
     "text": [
      "Data is full rank\n",
      "Data is not low rank\n",
      "solving using normal equation...\n",
      "without regularisation\n",
      "[22.93399433 -0.90751811  1.04796575  0.38867104  0.6622465  -2.17214484\n",
      "  2.58716716  0.50645061 -2.59559964  2.30818886 -1.67320027 -2.33651383\n",
      "  0.65618617 -3.99472177]\n"
     ]
    }
   ],
   "source": [
    "reg_Ne = Regressor(df.values[:,0:-1], df.values[:,-1], learning_rate= 0.0004, tol = 0.005, iterations = 50000, \n",
    "                SGDiterations = 100,reg_param = 0.001, batch_size= 1\n",
    "               , gd = False, regp = False, sgd = False )\n",
    "reg_Ne.fit()\n",
    "reg_Ne.plotError()\n"
   ]
  },
  {
   "cell_type": "code",
   "execution_count": 123,
   "id": "62940530",
   "metadata": {},
   "outputs": [
    {
     "name": "stdout",
     "output_type": "stream",
     "text": [
      "Data is full rank\n",
      "Data is not low rank\n",
      "solving using normal equation...\n",
      "with regularisation\n",
      "[22.93392937 -0.9075087   1.04794718  0.38863798  0.66225127 -2.1721009\n",
      "  2.58718049  0.50642973 -2.59557244  2.308099   -1.67312074 -2.33650137\n",
      "  0.65618524 -3.99469858]\n"
     ]
    }
   ],
   "source": [
    "reg_Ne_wreg = Regressor(df.values[:,0:-1], df.values[:,-1], learning_rate= 0.0004, tol = 0.005, iterations = 50000, \n",
    "                SGDiterations = 100,reg_param = 0.001, batch_size= 1\n",
    "               , gd = False, regp = True, sgd = False )\n",
    "reg_Ne_wreg.fit()\n",
    "reg_Ne_wreg.plotError()"
   ]
  },
  {
   "cell_type": "code",
   "execution_count": 127,
   "id": "062bb7c0",
   "metadata": {},
   "outputs": [
    {
     "name": "stdout",
     "output_type": "stream",
     "text": [
      "                        --------------RMSE values--------------\n",
      "\n",
      "                       Gradient Descent   Stochastic GD       Normal Eq\n",
      "                        ---------------  -------------        ---------\n",
      "With regularisation :   4.78              11.23               4.624\n",
      "Without regularisation: 4.726             4.736               4.624\n"
     ]
    }
   ],
   "source": [
    "print('                        --------------RMSE values--------------')\n",
    "print('\\n                       Gradient Descent   Stochastic GD       Normal Eq')\n",
    "print('                        ---------------  -------------        ---------')\n",
    "print('With regularisation :   {:.04}              {:.04}               {:.04}'.format(reg_wreg.rmse(reg_wreg.x_test,reg_wreg.y_test),\\\n",
    "                                                                                  reg_sgd_wreg.rmse(reg_sgd_wreg.x_test,reg_sgd_wreg.y_test),\\\n",
    "                                                                                    reg_Ne_wreg.rmse(reg_Ne_wreg.x_test,reg_Ne_wreg.y_test)))\n",
    "\n",
    "print('Without regularisation: {:.04}             {:.04}               {:.04}'.format(reg.rmse(reg.x_test,reg.y_test),\\\n",
    "                                                                                reg_sgd.rmse(reg_sgd.x_test,reg_sgd.y_test),\\\n",
    "                                                                                reg_Ne.rmse(reg_Ne.x_test,reg_Ne.y_test)))\n"
   ]
  },
  {
   "cell_type": "markdown",
   "id": "677a839a",
   "metadata": {},
   "source": [
    "As SGD has a batch size to be determined which shuffles the data randomly to select the data points, more number of iterations with smaller batch size might work to converge faster and show lower rmse value.  "
   ]
  },
  {
   "cell_type": "code",
   "execution_count": 128,
   "id": "58a829f4",
   "metadata": {},
   "outputs": [
    {
     "name": "stdout",
     "output_type": "stream",
     "text": [
      "                        --------------SSE values--------------\n",
      "\n",
      "                       Gradient Descent   Stochastic GD       Normal Eq\n",
      "                        ---------------  -------------        ---------\n",
      "With regularisation :   3.473e+03              1.916e+04               3.25e+03\n",
      "Without regularisation: 3.395e+03             3.41e+03               3.25e+03\n"
     ]
    }
   ],
   "source": [
    "print('                        --------------SSE values--------------')\n",
    "print('\\n                       Gradient Descent   Stochastic GD       Normal Eq')\n",
    "print('                        ---------------  -------------        ---------')\n",
    "print('With regularisation :   {:.04}              {:.04}               {:.04}'.format(reg_wreg.sse(reg_wreg.x_test,reg_wreg.y_test),\\\n",
    "                                                                                  reg_sgd_wreg.sse(reg_sgd_wreg.x_test,reg_sgd_wreg.y_test),\\\n",
    "                                                                                    reg_Ne_wreg.sse(reg_Ne_wreg.x_test,reg_Ne_wreg.y_test)))\n",
    "\n",
    "print('Without regularisation: {:.04}             {:.04}               {:.04}'.format(reg.sse(reg.x_test,reg.y_test),\\\n",
    "                                                                                reg_sgd.sse(reg_sgd.x_test,reg_sgd.y_test),\\\n",
    "                                                                                reg_Ne.sse(reg_Ne.x_test,reg_Ne.y_test)))\n"
   ]
  },
  {
   "cell_type": "markdown",
   "id": "58ff03dc",
   "metadata": {},
   "source": [
    "# concrete dataset"
   ]
  },
  {
   "cell_type": "code",
   "execution_count": 129,
   "id": "db88fe8e",
   "metadata": {},
   "outputs": [],
   "source": [
    "df1 = pd.read_csv('C:/Users/sid31/Downloads/New folder/semester 2/machine learning/python exercises/regression/concreteData.csv')"
   ]
  },
  {
   "cell_type": "code",
   "execution_count": 130,
   "id": "a1e8792f",
   "metadata": {},
   "outputs": [
    {
     "name": "stdout",
     "output_type": "stream",
     "text": [
      "Data is full rank\n",
      "Data is not low rank\n",
      "solving using gradient descent...\n",
      "without regularisation \n"
     ]
    },
    {
     "name": "stderr",
     "output_type": "stream",
     "text": [
      "  0%|▏                                                                          | 140/50000 [00:00<00:01, 46670.05it/s]"
     ]
    },
    {
     "name": "stdout",
     "output_type": "stream",
     "text": [
      "model stopped - no further updating\n",
      "[35.55869444 12.44770816  8.66659059  5.53272991 -2.91503991  2.06868838\n",
      "  1.26049025  1.15047029  7.34790782]\n"
     ]
    },
    {
     "name": "stderr",
     "output_type": "stream",
     "text": [
      "\n"
     ]
    },
    {
     "data": {
      "image/png": "[encoded data removed]",
      "text/plain": [
       "<Figure size 504x360 with 1 Axes>"
      ]
     },
     "metadata": {
      "needs_background": "light"
     },
     "output_type": "display_data"
    }
   ],
   "source": [
    "reg1 = Regressor(df1.values[:,0:-1], df1.values[:,-1], learning_rate= 0.0007, tol = 0.0001, iterations = 50000,\n",
    "                 SGDiterations = 100, reg_param = 0.003, batch_size= 1\n",
    "               , gd = True, regp = False, sgd = False)\n",
    "reg1.fit()\n",
    "reg1.plotError()"
   ]
  },
  {
   "cell_type": "code",
   "execution_count": 131,
   "id": "8dfd24da",
   "metadata": {},
   "outputs": [
    {
     "name": "stdout",
     "output_type": "stream",
     "text": [
      "Data is full rank\n",
      "Data is not low rank\n",
      "solving using gradient descent...\n",
      "with regularisation\n"
     ]
    },
    {
     "name": "stderr",
     "output_type": "stream",
     "text": [
      " 10%|███████▋                                                                  | 5225/50000 [00:00<00:00, 47171.95it/s]"
     ]
    },
    {
     "name": "stdout",
     "output_type": "stream",
     "text": [
      "model stopped - no further updating\n",
      "[34.64307446  7.16089812  3.2209293   0.31971631 -4.82334571  3.74997908\n",
      " -1.4568622  -2.99928958  6.72372494]\n"
     ]
    },
    {
     "name": "stderr",
     "output_type": "stream",
     "text": [
      "\n"
     ]
    },
    {
     "data": {
      "image/png": "[encoded data removed]",
      "text/plain": [
       "<Figure size 504x360 with 1 Axes>"
      ]
     },
     "metadata": {
      "needs_background": "light"
     },
     "output_type": "display_data"
    }
   ],
   "source": [
    "reg1_wreg = Regressor(df1.values[:,0:-1], df1.values[:,-1], learning_rate= 0.0007, tol = 0.0001, iterations = 50000,\n",
    "                 SGDiterations = 100, reg_param = 0.003, batch_size= 1\n",
    "               , gd = True, regp = True, sgd = False)\n",
    "reg1_wreg.fit()\n",
    "reg1_wreg.plotError()"
   ]
  },
  {
   "cell_type": "code",
   "execution_count": 132,
   "id": "3576e4cc",
   "metadata": {},
   "outputs": [
    {
     "name": "stdout",
     "output_type": "stream",
     "text": [
      "Data is full rank\n",
      "Data is not low rank\n",
      "solving using stochastic gradient descent...\n",
      "without regularisation \n"
     ]
    },
    {
     "name": "stderr",
     "output_type": "stream",
     "text": [
      "100%|█████████████████████████████████████████████████████████████████████████████| 100/100 [00:00<00:00, 33185.41it/s]"
     ]
    },
    {
     "name": "stdout",
     "output_type": "stream",
     "text": [
      "[35.43832979  7.43682587  4.42716748  1.37814896 -5.27495437  2.97206152\n",
      " -1.15892123 -2.63768608  7.62376971]\n"
     ]
    },
    {
     "name": "stderr",
     "output_type": "stream",
     "text": [
      "\n"
     ]
    },
    {
     "data": {
      "image/png": "[encoded data removed]",
      "text/plain": [
       "<Figure size 504x360 with 1 Axes>"
      ]
     },
     "metadata": {
      "needs_background": "light"
     },
     "output_type": "display_data"
    }
   ],
   "source": [
    "reg1_sgd = Regressor(df1.values[:,0:-1], df1.values[:,-1], learning_rate= 0.0007, tol = 0.0001, iterations = 50000,\n",
    "                 SGDiterations = 100, reg_param = 0.003, batch_size= 100\n",
    "               , gd = False, regp = False, sgd = True)\n",
    "reg1_sgd.fit()\n",
    "reg1_sgd.plotError()"
   ]
  },
  {
   "cell_type": "code",
   "execution_count": 133,
   "id": "154d1350",
   "metadata": {},
   "outputs": [
    {
     "name": "stdout",
     "output_type": "stream",
     "text": [
      "Data is full rank\n",
      "Data is not low rank\n",
      "solving using stochastic gradient descent...\n",
      "with regularisation\n"
     ]
    },
    {
     "name": "stderr",
     "output_type": "stream",
     "text": [
      "100%|███████████████████████████████████████████████████████████████████████████| 5000/5000 [00:00<00:00, 33712.48it/s]"
     ]
    },
    {
     "name": "stdout",
     "output_type": "stream",
     "text": [
      "[34.44739873  7.07077362  3.16236696  0.23159458 -4.77046226  3.78140379\n",
      " -1.45041586 -2.96600216  6.68436296]\n"
     ]
    },
    {
     "name": "stderr",
     "output_type": "stream",
     "text": [
      "\n"
     ]
    },
    {
     "data": {
      "image/png": "[encoded data removed]",
      "text/plain": [
       "<Figure size 504x360 with 1 Axes>"
      ]
     },
     "metadata": {
      "needs_background": "light"
     },
     "output_type": "display_data"
    }
   ],
   "source": [
    "reg1_sgd_wreg = Regressor(df1.values[:,0:-1], df1.values[:,-1], learning_rate= 0.0007, tol = 0.0001, iterations = 50000,\n",
    "                 SGDiterations = 5000, reg_param = 0.003, batch_size= 100\n",
    "               , gd = False, regp = True, sgd = True)\n",
    "reg1_sgd_wreg.fit()\n",
    "reg1_sgd_wreg.plotError()"
   ]
  },
  {
   "cell_type": "code",
   "execution_count": 134,
   "id": "b1825483",
   "metadata": {},
   "outputs": [
    {
     "name": "stdout",
     "output_type": "stream",
     "text": [
      "Data is full rank\n",
      "Data is not low rank\n",
      "solving using normal equation...\n",
      "without regularisation\n",
      "[35.55869444 13.07061719  9.29612788  6.07754028 -2.38797659  2.13444427\n",
      "  1.74782814  1.75752107  7.36636378]\n"
     ]
    }
   ],
   "source": [
    "reg1_Ne = Regressor(df1.values[:,0:-1], df1.values[:,-1], learning_rate= 0.0007, tol = 0.0001, iterations = 50000,\n",
    "                 SGDiterations = 100, reg_param = 0.003, batch_size= 1\n",
    "               , gd = False, regp = False, sgd = False)\n",
    "reg1_Ne.fit()\n",
    "reg1_Ne.plotError()"
   ]
  },
  {
   "cell_type": "code",
   "execution_count": 135,
   "id": "465a1a55",
   "metadata": {},
   "outputs": [
    {
     "name": "stdout",
     "output_type": "stream",
     "text": [
      "Data is full rank\n",
      "Data is not low rank\n",
      "solving using normal equation...\n",
      "with regularisation\n",
      "[35.55854628 13.06979401  9.29530217  6.07681127 -2.38853583  2.13444129\n",
      "  1.74726217  1.75679001  7.36629947]\n"
     ]
    }
   ],
   "source": [
    "reg1_Ne_wreg = Regressor(df1.values[:,0:-1], df1.values[:,-1], learning_rate= 0.0007, tol = 0.0001, iterations = 50000,\n",
    "                 SGDiterations = 100, reg_param = 0.003, batch_size= 1\n",
    "               , gd = False, regp = True, sgd = False)\n",
    "reg1_Ne_wreg.fit()\n",
    "reg1_Ne_wreg.plotError()"
   ]
  },
  {
   "cell_type": "code",
   "execution_count": 136,
   "id": "9cbe4349",
   "metadata": {},
   "outputs": [
    {
     "name": "stdout",
     "output_type": "stream",
     "text": [
      "                        --------------RMSE values--------------\n",
      "\n",
      "                       Gradient Descent   Stochastic GD       Normal Eq\n",
      "                        ---------------  -------------        ---------\n",
      "With regularisation :   11.35              11.37               11.11\n",
      "Without regularisation: 11.1             11.34               11.11\n"
     ]
    }
   ],
   "source": [
    "print('                        --------------RMSE values--------------')\n",
    "print('\\n                       Gradient Descent   Stochastic GD       Normal Eq')\n",
    "print('                        ---------------  -------------        ---------')\n",
    "print('With regularisation :   {:.04}              {:.04}               {:.04}'.format(reg1_wreg.rmse(reg1_wreg.x_test,reg1_wreg.y_test),\\\n",
    "                                                                                  reg1_sgd_wreg.rmse(reg1_sgd_wreg.x_test,reg1_sgd_wreg.y_test),\\\n",
    "                                                                                    reg1_Ne_wreg.rmse(reg1_Ne_wreg.x_test,reg1_Ne_wreg.y_test)))\n",
    "\n",
    "print('Without regularisation: {:.04}             {:.04}               {:.04}'.format(reg1.rmse(reg1.x_test,reg1.y_test),\\\n",
    "                                                                                reg1_sgd.rmse(reg1_sgd.x_test,reg1_sgd.y_test),\\\n",
    "                                                                                reg1_Ne.rmse(reg1_Ne.x_test,reg1_Ne.y_test)))\n"
   ]
  },
  {
   "cell_type": "code",
   "execution_count": 137,
   "id": "9a167e7c",
   "metadata": {},
   "outputs": [
    {
     "name": "stdout",
     "output_type": "stream",
     "text": [
      "                        --------------SSE values--------------\n",
      "\n",
      "                       Gradient Descent   Stochastic GD       Normal Eq\n",
      "                        ---------------  -------------        ---------\n",
      "With regularisation :   3.984e+04              3.995e+04               3.812e+04\n",
      "Without regularisation: 3.808e+04             3.971e+04               3.812e+04\n"
     ]
    }
   ],
   "source": [
    "print('                        --------------SSE values--------------')\n",
    "print('\\n                       Gradient Descent   Stochastic GD       Normal Eq')\n",
    "print('                        ---------------  -------------        ---------')\n",
    "print('With regularisation :   {:.04}              {:.04}               {:.04}'.format(reg1_wreg.sse(reg1_wreg.x_test,reg1_wreg.y_test),\\\n",
    "                                                                                  reg1_sgd_wreg.sse(reg1_sgd_wreg.x_test,reg1_sgd_wreg.y_test),\\\n",
    "                                                                                    reg1_Ne_wreg.sse(reg1_Ne_wreg.x_test,reg1_Ne_wreg.y_test)))\n",
    "\n",
    "print('Without regularisation: {:.04}             {:.04}               {:.04}'.format(reg1.sse(reg1.x_test,reg1.y_test),\\\n",
    "                                                                                reg1_sgd.sse(reg1_sgd.x_test,reg1_sgd.y_test),\\\n",
    "                                                                                reg1_Ne.sse(reg1_Ne.x_test,reg1_Ne.y_test)))\n"
   ]
  },
  {
   "cell_type": "markdown",
   "id": "3185274b",
   "metadata": {},
   "source": [
    "# Yacht dataset"
   ]
  },
  {
   "cell_type": "code",
   "execution_count": 138,
   "id": "d30205f9",
   "metadata": {},
   "outputs": [],
   "source": [
    "df2 = pd.read_csv('C:/Users/sid31/Downloads/New folder/semester 2/machine learning/python exercises/regression/yachtData.csv')"
   ]
  },
  {
   "cell_type": "code",
   "execution_count": 139,
   "id": "238f0147",
   "metadata": {},
   "outputs": [
    {
     "name": "stdout",
     "output_type": "stream",
     "text": [
      "Data is full rank\n",
      "Data is not low rank\n",
      "solving using gradient descent...\n",
      "without regularisation \n"
     ]
    },
    {
     "name": "stderr",
     "output_type": "stream",
     "text": [
      "  0%|                                                                                       | 19/50000 [00:00<?, ?it/s]"
     ]
    },
    {
     "name": "stdout",
     "output_type": "stream",
     "text": [
      "model stopped - no further updating\n",
      "[10.65570116  0.54860892 -0.64086545 -0.1248648  -0.05651829 -0.2141502\n",
      " 12.78556211]\n"
     ]
    },
    {
     "name": "stderr",
     "output_type": "stream",
     "text": [
      "\n"
     ]
    },
    {
     "data": {
      "image/png": "[encoded data removed]",
      "text/plain": [
       "<Figure size 504x360 with 1 Axes>"
      ]
     },
     "metadata": {
      "needs_background": "light"
     },
     "output_type": "display_data"
    }
   ],
   "source": [
    "reg2 = Regressor(df2.values[:,0:-1], df2.values[:,-1], learning_rate= 0.001, tol = 0.001, iterations = 50000,\n",
    "                 SGDiterations = 40, reg_param = 0.03, batch_size = 100\n",
    "               , gd = True, regp = False, sgd = False)\n",
    "reg2.fit()\n",
    "reg2.plotError()"
   ]
  },
  {
   "cell_type": "code",
   "execution_count": 140,
   "id": "54b65581",
   "metadata": {},
   "outputs": [
    {
     "name": "stdout",
     "output_type": "stream",
     "text": [
      "Data is full rank\n",
      "Data is not low rank\n",
      "solving using gradient descent...\n",
      "with regularisation\n"
     ]
    },
    {
     "name": "stderr",
     "output_type": "stream",
     "text": [
      " 11%|███████▊                                                                  | 5306/50000 [00:00<00:00, 73383.38it/s]"
     ]
    },
    {
     "name": "stdout",
     "output_type": "stream",
     "text": [
      "model stopped - no further updating\n",
      "[10.67503133  0.54362743 -0.6420795  -0.11982502 -0.05949954 -0.21873241\n",
      " 12.80898829]\n"
     ]
    },
    {
     "name": "stderr",
     "output_type": "stream",
     "text": [
      "\n"
     ]
    },
    {
     "data": {
      "image/png": "[encoded data removed]",
      "text/plain": [
       "<Figure size 504x360 with 1 Axes>"
      ]
     },
     "metadata": {
      "needs_background": "light"
     },
     "output_type": "display_data"
    }
   ],
   "source": [
    "reg2_wreg = Regressor(df2.values[:,0:-1], df2.values[:,-1], learning_rate= 0.001, tol = 0.000001, iterations = 50000,\n",
    "                 SGDiterations = 40, reg_param = 0.3, batch_size = 100\n",
    "               , gd = True, regp = True, sgd = False)\n",
    "reg2_wreg.fit()\n",
    "reg2_wreg.plotError()"
   ]
  },
  {
   "cell_type": "code",
   "execution_count": 141,
   "id": "e99d4ec7",
   "metadata": {},
   "outputs": [
    {
     "name": "stdout",
     "output_type": "stream",
     "text": [
      "Data is full rank\n",
      "Data is not low rank\n",
      "solving using stochastic gradient descent...\n",
      "without regularisation \n"
     ]
    },
    {
     "name": "stderr",
     "output_type": "stream",
     "text": [
      " 88%|█████████████████████████████████████████████████████████████████▊         | 4388/5000 [00:00<00:00, 34984.96it/s]"
     ]
    },
    {
     "name": "stdout",
     "output_type": "stream",
     "text": [
      "model stopped - no further updating\n",
      "[10.67478573  0.53434487 -0.73747052  0.37454704 -0.46086562 -0.866219\n",
      " 13.25064779]\n"
     ]
    },
    {
     "name": "stderr",
     "output_type": "stream",
     "text": [
      "\n"
     ]
    },
    {
     "data": {
      "image/png": "[encoded data removed]",
      "text/plain": [
       "<Figure size 504x360 with 1 Axes>"
      ]
     },
     "metadata": {
      "needs_background": "light"
     },
     "output_type": "display_data"
    }
   ],
   "source": [
    "reg2_sgd = Regressor(df2.values[:,0:-1], df2.values[:,-1], learning_rate= 0.001, tol = 0.001, iterations = 50000,\n",
    "                 SGDiterations = 5000, reg_param = 0.03, batch_size = 100\n",
    "               , gd = False, regp = False, sgd = True)\n",
    "reg2_sgd.fit()\n",
    "reg2_sgd.plotError()"
   ]
  },
  {
   "cell_type": "code",
   "execution_count": 142,
   "id": "5b960acc",
   "metadata": {},
   "outputs": [
    {
     "name": "stdout",
     "output_type": "stream",
     "text": [
      "Data is full rank\n",
      "Data is not low rank\n",
      "solving using stochastic gradient descent...\n",
      "with regularisation\n"
     ]
    },
    {
     "name": "stderr",
     "output_type": "stream",
     "text": [
      " 45%|█████████████████████████████████▍                                         | 2233/5000 [00:00<00:00, 34606.93it/s]"
     ]
    },
    {
     "name": "stdout",
     "output_type": "stream",
     "text": [
      "model stopped - no further updating\n",
      "[ 9.57088032  0.55171734 -0.57332483 -0.13110699 -0.06227746 -0.18373135\n",
      " 11.47464879]\n"
     ]
    },
    {
     "name": "stderr",
     "output_type": "stream",
     "text": [
      "\n"
     ]
    },
    {
     "data": {
      "image/png": "[encoded data removed]",
      "text/plain": [
       "<Figure size 504x360 with 1 Axes>"
      ]
     },
     "metadata": {
      "needs_background": "light"
     },
     "output_type": "display_data"
    }
   ],
   "source": [
    "reg2_sgd_wreg = Regressor(df2.values[:,0:-1], df2.values[:,-1], learning_rate= 0.001, tol = 0.001, iterations = 50000,\n",
    "                 SGDiterations = 5000, reg_param = 0.03, batch_size = 100\n",
    "               , gd = False, regp = True, sgd = True)\n",
    "reg2_sgd_wreg.fit()\n",
    "reg2_sgd_wreg.plotError()"
   ]
  },
  {
   "cell_type": "code",
   "execution_count": 143,
   "id": "c8d39df9",
   "metadata": {},
   "outputs": [
    {
     "name": "stdout",
     "output_type": "stream",
     "text": [
      "Data is full rank\n",
      "Data is not low rank\n",
      "solving using normal equation...\n",
      "without regularisation\n",
      "[10.74271028  0.54271589 -0.48644592  0.53145418 -0.58852203 -0.84401335\n",
      " 12.89451446]\n"
     ]
    }
   ],
   "source": [
    "reg2_Ne = Regressor(df2.values[:,0:-1], df2.values[:,-1], learning_rate= 0.001, tol = 0.001, iterations = 50000,\n",
    "                 SGDiterations = 40, reg_param = 0.03, batch_size = 100\n",
    "               , gd = False, regp = False, sgd = False)\n",
    "reg2_Ne.fit()\n",
    "reg2_Ne.plotError()"
   ]
  },
  {
   "cell_type": "code",
   "execution_count": 144,
   "id": "65d33eee",
   "metadata": {},
   "outputs": [
    {
     "name": "stdout",
     "output_type": "stream",
     "text": [
      "Data is full rank\n",
      "Data is not low rank\n",
      "solving using normal equation...\n",
      "with regularisation\n",
      "[10.7412045   0.54257338 -0.48976767  0.51769822 -0.57731108 -0.83078887\n",
      " 12.89262364]\n"
     ]
    }
   ],
   "source": [
    "reg2_Ne_wreg = Regressor(df2.values[:,0:-1], df2.values[:,-1], learning_rate= 0.001, tol = 0.001, iterations = 50000,\n",
    "                 SGDiterations = 40, reg_param = 0.03, batch_size = 100\n",
    "               , gd = False, regp = True, sgd = False)\n",
    "reg2_Ne_wreg.fit()\n",
    "reg2_Ne_wreg.plotError()"
   ]
  },
  {
   "cell_type": "code",
   "execution_count": 145,
   "id": "75cff85b",
   "metadata": {},
   "outputs": [
    {
     "name": "stdout",
     "output_type": "stream",
     "text": [
      "                        --------------RMSE values--------------\n",
      "\n",
      "                       Gradient Descent   Stochastic GD       Normal Eq\n",
      "                        ---------------  -------------        ---------\n",
      "With regularisation :   9.028              8.785               9.051\n",
      "Without regularisation: 9.022             9.104               9.051\n"
     ]
    }
   ],
   "source": [
    "print('                        --------------RMSE values--------------')\n",
    "print('\\n                       Gradient Descent   Stochastic GD       Normal Eq')\n",
    "print('                        ---------------  -------------        ---------')\n",
    "print('With regularisation :   {:.04}              {:.04}               {:.04}'.format(reg2_wreg.rmse(reg2_wreg.x_test,reg2_wreg.y_test),\\\n",
    "                                                                                  reg2_sgd_wreg.rmse(reg2_sgd_wreg.x_test,reg2_sgd_wreg.y_test),\\\n",
    "                                                                                    reg2_Ne_wreg.rmse(reg2_Ne_wreg.x_test,reg2_Ne_wreg.y_test)))\n",
    "\n",
    "print('Without regularisation: {:.04}             {:.04}               {:.04}'.format(reg2.rmse(reg2.x_test,reg2.y_test),\\\n",
    "                                                                                reg2_sgd.rmse(reg2_sgd.x_test,reg2_sgd.y_test),\\\n",
    "                                                                                reg2_Ne.rmse(reg2_Ne.x_test,reg2_Ne.y_test)))\n"
   ]
  },
  {
   "cell_type": "code",
   "execution_count": 146,
   "id": "a037737f",
   "metadata": {},
   "outputs": [
    {
     "name": "stdout",
     "output_type": "stream",
     "text": [
      "                        --------------SSE values--------------\n",
      "\n",
      "                       Gradient Descent   Stochastic GD       Normal Eq\n",
      "                        ---------------  -------------        ---------\n",
      "With regularisation :   7.58e+03              7.177e+03               7.618e+03\n",
      "Without regularisation: 7.569e+03             7.708e+03               7.619e+03\n"
     ]
    }
   ],
   "source": [
    "print('                        --------------SSE values--------------')\n",
    "print('\\n                       Gradient Descent   Stochastic GD       Normal Eq')\n",
    "print('                        ---------------  -------------        ---------')\n",
    "print('With regularisation :   {:.04}              {:.04}               {:.04}'.format(reg2_wreg.sse(reg2_wreg.x_test,reg2_wreg.y_test),\\\n",
    "                                                                                  reg2_sgd_wreg.sse(reg2_sgd_wreg.x_test,reg2_sgd_wreg.y_test),\\\n",
    "                                                                                    reg2_Ne_wreg.sse(reg2_Ne_wreg.x_test,reg2_Ne_wreg.y_test)))\n",
    "\n",
    "print('Without regularisation: {:.04}             {:.04}               {:.04}'.format(reg2.sse(reg2.x_test,reg2.y_test),\\\n",
    "                                                                                reg2_sgd.sse(reg2_sgd.x_test,reg2_sgd.y_test),\\\n",
    "                                                                                reg2_Ne.sse(reg2_Ne.x_test,reg2_Ne.y_test)))\n"
   ]
  },
  {
   "cell_type": "markdown",
   "id": "f24a9656",
   "metadata": {},
   "source": [
    "As we decrease the learning rate, the model takes long to converge to the global minimum(i.e: required more number of iterations), on the other side if we have a bigger learning rate the model never converges to the minimum instead randomly shifts its value from positive to negative direction. "
   ]
  },
  {
   "cell_type": "markdown",
   "id": "c857a333",
   "metadata": {},
   "source": [
    "If lambda/regularisation parameter value is too high, the model will be simple, but we run the risk of underfitting data. the model won't learn enough about the training data to make useful predictions. If lambda value is too low, model will be more complex, and you run the risk of overfitting the data."
   ]
  },
  {
   "cell_type": "code",
   "execution_count": null,
   "id": "fe33c840",
   "metadata": {},
   "outputs": [],
   "source": []
  }
 ],
 "metadata": {
  "kernelspec": {
   "display_name": "Python 3 (ipykernel)",
   "language": "python",
   "name": "python3"
  },
  "language_info": {
   "codemirror_mode": {
    "name": "ipython",
    "version": 3
   },
   "file_extension": ".py",
   "mimetype": "text/x-python",
   "name": "python",
   "nbconvert_exporter": "python",
   "pygments_lexer": "ipython3",
   "version": "3.9.7"
  }
 },
 "nbformat": 4,
 "nbformat_minor": 5
}
