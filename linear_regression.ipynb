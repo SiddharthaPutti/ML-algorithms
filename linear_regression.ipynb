{
 "cells": [
  {
   "cell_type": "code",
   "execution_count": 14,
   "id": "710c7a1d",
   "metadata": {},
   "outputs": [],
   "source": [
    "import numpy as np \n",
    "import pandas as pd \n",
    "from sklearn.model_selection import train_test_split\n",
    "from tqdm import tqdm\n",
    "import math \n",
    "import matplotlib.pyplot as plt "
   ]
  },
  {
   "cell_type": "code",
   "execution_count": 15,
   "id": "00b8f40a",
   "metadata": {},
   "outputs": [],
   "source": [
    "df= pd.read_csv('C:/Users/sid31/Downloads/New folder/semester 2/machine learning/python exercises/regression/housing.csv')\n"
   ]
  },
  {
   "cell_type": "code",
   "execution_count": 27,
   "id": "df792ba7",
   "metadata": {},
   "outputs": [
    {
     "data": {
      "text/plain": [
       "array([2.2489e-01, 1.2500e+01, 7.8700e+00, 0.0000e+00, 5.2400e-01,\n",
       "       6.3770e+00, 9.4300e+01, 6.3467e+00, 5.0000e+00, 3.1100e+02,\n",
       "       1.5200e+01, 3.9252e+02, 2.0450e+01, 1.5000e+01])"
      ]
     },
     "execution_count": 27,
     "metadata": {},
     "output_type": "execute_result"
    }
   ],
   "source": [
    "k = df.values\n",
    "k[9,:]"
   ]
  },
  {
   "cell_type": "code",
   "execution_count": 33,
   "id": "63343ea4",
   "metadata": {},
   "outputs": [],
   "source": [
    "class Regressor:\n",
    "    def __init__(self, X, y, tol , learning_rate, iterations, reg_param,SGDiterations, gd= False, regp = False, sgd = False):\n",
    "        self.X = X\n",
    "        self.y = y\n",
    "        self.learning_rate = learning_rate\n",
    "        self.iterations = iterations\n",
    "        self.tol = tol \n",
    "        #self.m , self.n = self.X.shape\n",
    "        self.gd = gd\n",
    "        self.iterations_count = []\n",
    "        self.error_seq = []\n",
    "        self.reg_param = reg_param\n",
    "        self.regp = regp\n",
    "        self.sgd = sgd\n",
    "        self.SGDiterations = SGDiterations\n",
    "        \n",
    "    def trainTestSplit(self):\n",
    "        x_train , x_test, y_train, y_test = train_test_split(self.X,self.y, test_size = 0.3, random_state = 0)\n",
    "        return x_train , x_test, y_train, y_test\n",
    "    \n",
    "    def addBias(self,X):\n",
    "        return np.column_stack([np.ones((X.shape[0],1)),X])\n",
    "    \n",
    "    def normData(self,X):\n",
    "        mean = np.mean(X, 0)\n",
    "        std =  np.std(X , 0)\n",
    "        nor =  ( X - mean) / std\n",
    "        x_norm = self.addBias(nor)\n",
    "        return x_norm, mean, std # retrun std and mean so that you need to normalise test data on this mean and std \n",
    "    \n",
    "    def normTestData(self, X, TrainMean, TrainStd):\n",
    "        x_norm = ( X - TrainMean ) / TrainStd\n",
    "        x_norm = self.addBias(x_norm)\n",
    "        return x_norm\n",
    "    \n",
    "    # closed form or normal equation \n",
    "    # find rank of the matrix to see full rank to evaluate invertibility \n",
    "    \n",
    "    def rank(self, X, esp = 1e-21):\n",
    "        u ,s ,vh = np.linalg.svd(X)\n",
    "        # s is diagonol matrix - if all values of s are not 0 and >0 we are good \n",
    "        \n",
    "        return len([x for x in s if abs(s) > esp])\n",
    "    # anathor way to check the rnak of matix\n",
    "    def checkMatrix(self,X):\n",
    "        \n",
    "        x_rank  = np.linalg.matrix_rank(X)\n",
    "        if x_rank == min(X.shape[0], X.shape[1]):\n",
    "            self.fullRank = True\n",
    "            print('Data is full rank')\n",
    "        else:\n",
    "            self.fullRank = False\n",
    "            print('Data not full rank')\n",
    "            \n",
    "    def checkInvertibility(self,X):\n",
    "        if X.shape[0] < X.shape[1]:\n",
    "            self.lowRank = True\n",
    "            print('Data is low rank')\n",
    "        else:\n",
    "            self.lowRank = False\n",
    "            print('Data is not low rank')\n",
    "    \n",
    "    def normalEq(self,X,y):\n",
    "        w = np.linalg.inv(np.dot(X.T,X)).dot(X.T).dot(y)\n",
    "        return w\n",
    "    \n",
    "    def regNormalEquation(self,X,y):\n",
    "        w = np.linalg.inv( np.dot(X.T,X) + self.reg_param * ( np.identity(X.shape[1]) )  ).dot(X.T).dot(y)\n",
    "        return w\n",
    "    \n",
    "    \n",
    "    def gradientDescent(self,X,y):\n",
    "        #error_seq = []\n",
    "        prev_error = float('inf')\n",
    "        \n",
    "        for t in tqdm(range(self.iterations)):\n",
    "            self.w = self.w - self.learning_rate * self.costDerivative(X,y)\n",
    "            cur = self.rmse(X,y)\n",
    "            diff = prev_error - cur\n",
    "            prev_error = cur\n",
    "            self.error_seq.append(cur)\n",
    "            self.iterations_count.append(t)\n",
    "            \n",
    "            if diff < self.tol: # in real life you need to wait patience* until certain iterations before you break\n",
    "                print(\"model stopped - no further updating\")\n",
    "                break          \n",
    "                \n",
    "    def regGradientDescent(self, X,y):\n",
    "        \n",
    "        prev_error = float('inf')\n",
    "        \n",
    "        for t in tqdm(range(self.iterations)):\n",
    "            w_update = self.w * (1 - self.learning_rate *( self.reg_param / X.shape[0]))\n",
    "            self.w  = w_update - (self.learning_rate  * self.regCostDerivative(X,y))  \n",
    "            cur = self.rmse(X,y)\n",
    "            diff = prev_error - cur\n",
    "            prev_error = cur\n",
    "            self.error_seq.append(cur)\n",
    "            self.iterations_count.append(t)\n",
    "            \n",
    "            if diff < self.tol: # in real life you need to wait patience* until certain iterations before you break\n",
    "                print(\"model stopped - no further updating\")\n",
    "                break\n",
    "                \n",
    "    def sgradientDescent(self, X, y ):\n",
    "        prev_error = float('inf')\n",
    "        \n",
    "        for t in tqdm(range(self.SGDiterations)):\n",
    "            for i in range(X.shape[0]):\n",
    "                self.W = self.w - self.learning_rate * self.costDerivative(X[i],y[i])\n",
    "                cur = self.rmse(X[i],y[i])\n",
    "                diff = prev_error - cur\n",
    "                prev_error = cur\n",
    "                self.error_seq.append(cur)\n",
    "                self.iterations_count.append(t)\n",
    "        \n",
    "    def regSGradientDescent():\n",
    "        prev_error = float('inf')\n",
    "        \n",
    "        for t in tqdm(range(self.SGDiterations)):\n",
    "            for i in range(X.shape[0]):\n",
    "                w_update = self.w * (1 - self.learning_rate *( self.reg_param / X.shape[0]))\n",
    "                self.w  = w_update - (self.learning_rate  * self.regCostDerivative(X[i],y[i]))\n",
    "                #self.W = slef.w - self.learning_rate * self.costDerivative(X[i,:],y[i,1])\n",
    "                cur = self.rmse(X[i],y[i])\n",
    "                diff = prev_error - cur\n",
    "                prev_error = cur\n",
    "                self.error_seq.append(cur)\n",
    "                self.iterations_count.append(t)\n",
    "        \n",
    "            \n",
    "    def sse(self,X,y):\n",
    "        y_hat = self.predict(X)\n",
    "        return ((y_hat - y)**2).sum()\n",
    "    \n",
    "    def rmse(self,X,y):\n",
    "        dum = self.sse(X,y)\n",
    "        return np.sqrt(dum / X.shape[0])\n",
    "    \n",
    "    def predict(self,X):\n",
    "        return X.dot(self.w)\n",
    "    \n",
    "    def costFunc(self,X, y):\n",
    "        return self.sse(X,y)/2\n",
    "    \n",
    "    def regCostFunc(self,X,y):\n",
    "        return ( self.sse(X,y) + (self.reg_param * np.dot(X.T,X).sum()) ) / 2\n",
    "    \n",
    "    def costDerivative(self,X,y):\n",
    "        y_hat = self.predict(X)\n",
    "        return np.dot(y_hat - y , X)\n",
    "    \n",
    "    def regCostDerivative(self,X,y):\n",
    "        y_hat = self.predict(X)\n",
    "        return np.dot(y_hat - y , X) / X.shape[0]\n",
    "    \n",
    "    \n",
    "    def fit(self):\n",
    "        self.x_train , self.x_test, self.y_train, self.y_test = self.trainTestSplit()\n",
    "        self.x_train, self.mean, self.std = self.normData(self.x_train)\n",
    "        self.x_test = self.normTestData(self.x_test, self.mean, self.std)\n",
    "        \n",
    "        self.checkMatrix(self.x_train)\n",
    "        self.checkInvertibility(self.x_train)\n",
    "        \n",
    "        if self.fullRank and not self.lowRank and not self.gd and not self.sgd:\n",
    "            print(\"solving using normal equation...\")\n",
    "            if not self.regp:\n",
    "                print(\"without regularisation\")\n",
    "                self.w = self.normalEq(self.x_train, self.y_train)\n",
    "                \n",
    "            else: \n",
    "                print(\"with regularisation\")\n",
    "                self.w = self.regNormalEquation(self.x_train, self.y_train)\n",
    "            \n",
    "        elif not self.sgd: \n",
    "            print(\"solving using gradient descent...\")\n",
    "            self.w = np.ones(self.x_train.shape[1], dtype = np.float64) *0\n",
    "            \n",
    "            if not self.regp:\n",
    "                print(\"without regularisation \")\n",
    "                self.gradientDescent(self.x_train,self.y_train)\n",
    "                \n",
    "            else: \n",
    "                print(\"with regularisation\")\n",
    "                self.regGradientDescent(self.x_train,self.y_train)\n",
    "                \n",
    "        else: \n",
    "            print(\"solving using stochastic gradient descent...\")\n",
    "            self.w = np.ones(self.x_train.shape[1], dtype = np.float64) *0\n",
    "            \n",
    "            if not self.regp:\n",
    "                print(\"without regularisation \")\n",
    "                \n",
    "                self.sgradientDescent(self.x_train,self.y_train)\n",
    "                \n",
    "            else: \n",
    "                print(\"with regularisation\")\n",
    "                self.regSGradientDescent(self.x_train,self.y_train)\n",
    "                \n",
    "                \n",
    "            \n",
    "        print(self.w)\n",
    "        \n",
    "    def plotError(self, figsize=(7,5)):\n",
    "        \n",
    "        plt.figure(figsize=figsize)\n",
    "        plt.plot(self.iterations_count,self.error_seq)\n",
    "        plt.xlabel('Iterations')\n",
    "        plt.ylabel('Cost')\n",
    "        plt.title(\"Iterations vs Cost\")\n",
    "        plt.show()\n",
    "        \n",
    "    def score(self,X,y):\n",
    "        return 1-(np.sum(((y-self.predict(X))**2))/np.sum((y-np.mean(y))**2))\n",
    "        \n",
    "        "
   ]
  },
  {
   "cell_type": "code",
   "execution_count": 36,
   "id": "6f43de1f",
   "metadata": {},
   "outputs": [
    {
     "name": "stdout",
     "output_type": "stream",
     "text": [
      "Data is full rank\n",
      "Data is not low rank\n",
      "solving using stochastic gradient descent...\n",
      "without regularisation \n"
     ]
    },
    {
     "name": "stderr",
     "output_type": "stream",
     "text": [
      "100%|███████████████████████████████████████████████████████████████████████████████████| 1/1 [00:00<00:00, 157.37it/s]"
     ]
    },
    {
     "name": "stdout",
     "output_type": "stream",
     "text": [
      "[0. 0. 0. 0. 0. 0. 0. 0. 0. 0. 0. 0. 0. 0.]\n"
     ]
    },
    {
     "name": "stderr",
     "output_type": "stream",
     "text": [
      "\n"
     ]
    },
    {
     "data": {
      "image/png": "[encoded data removed]",
      "text/plain": [
       "<Figure size 504x360 with 1 Axes>"
      ]
     },
     "metadata": {
      "needs_background": "light"
     },
     "output_type": "display_data"
    }
   ],
   "source": [
    "reg = Regressor(df.values[:,0:-1], df.values[:,-1], learning_rate= 0.0004, tol = 0.005, iterations = 50000, \n",
    "                SGDiterations = 1,reg_param = 0.03\n",
    "               , gd = False, regp = False, sgd = True )\n",
    "reg.fit()\n",
    "reg.plotError()"
   ]
  },
  {
   "cell_type": "code",
   "execution_count": 35,
   "id": "328ecf9a",
   "metadata": {},
   "outputs": [
    {
     "data": {
      "text/plain": [
       "-5.922879732152989"
      ]
     },
     "execution_count": 35,
     "metadata": {},
     "output_type": "execute_result"
    }
   ],
   "source": [
    "reg.score(reg.x_test,reg.y_test)"
   ]
  },
  {
   "cell_type": "code",
   "execution_count": 59,
   "id": "db88fe8e",
   "metadata": {},
   "outputs": [],
   "source": [
    "df1 = pd.read_csv('C:/Users/sid31/Downloads/New folder/semester 2/machine learning/python exercises/concreteData.csv')"
   ]
  },
  {
   "cell_type": "code",
   "execution_count": 79,
   "id": "a1e8792f",
   "metadata": {},
   "outputs": [
    {
     "name": "stdout",
     "output_type": "stream",
     "text": [
      "Data is full rank\n",
      "Data is not low rank\n",
      "solving using gradient descent...\n",
      "without regularisation \n"
     ]
    },
    {
     "name": "stderr",
     "output_type": "stream",
     "text": [
      "  0%|▏                                                                          | 140/50000 [00:00<00:01, 40191.82it/s]"
     ]
    },
    {
     "name": "stdout",
     "output_type": "stream",
     "text": [
      "model stopped - no further updating\n",
      "[35.55869444 12.44770816  8.66659059  5.53272991 -2.91503991  2.06868838\n",
      "  1.26049025  1.15047029  7.34790782]\n"
     ]
    },
    {
     "name": "stderr",
     "output_type": "stream",
     "text": [
      "\n"
     ]
    },
    {
     "data": {
      "image/png": "[encoded data removed]",
      "text/plain": [
       "<Figure size 504x360 with 1 Axes>"
      ]
     },
     "metadata": {
      "needs_background": "light"
     },
     "output_type": "display_data"
    }
   ],
   "source": [
    "reg1 = Regressor(df1.values[:,0:-1], df1.values[:,-1], learning_rate= 0.0007, tol = 0.0001, iterations = 50000,\n",
    "                 SGDiterations = 10, reg_param = 0.03\n",
    "               , gd = True, regp = False, sdg = True)\n",
    "reg1.fit()\n",
    "reg1.plotError()"
   ]
  },
  {
   "cell_type": "code",
   "execution_count": 80,
   "id": "0cf33fd7",
   "metadata": {},
   "outputs": [
    {
     "data": {
      "text/plain": [
       "0.5309870713796991"
      ]
     },
     "execution_count": 80,
     "metadata": {},
     "output_type": "execute_result"
    }
   ],
   "source": [
    "reg1.score(reg1.x_test,reg1.y_test)"
   ]
  },
  {
   "cell_type": "code",
   "execution_count": 68,
   "id": "d30205f9",
   "metadata": {},
   "outputs": [],
   "source": [
    "df2 = pd.read_csv('C:/Users/sid31/Downloads/New folder/semester 2/machine learning/python exercises/yachtData.csv')"
   ]
  },
  {
   "cell_type": "code",
   "execution_count": 81,
   "id": "238f0147",
   "metadata": {},
   "outputs": [
    {
     "name": "stdout",
     "output_type": "stream",
     "text": [
      "Data is full rank\n",
      "Data is not low rank\n",
      "solving using gradient descent...\n",
      "without regularisation \n"
     ]
    },
    {
     "name": "stderr",
     "output_type": "stream",
     "text": [
      "  0%|                                                                            | 19/50000 [00:00<00:01, 36108.64it/s]"
     ]
    },
    {
     "name": "stdout",
     "output_type": "stream",
     "text": [
      "model stopped - no further updating\n",
      "[10.65570116  0.54860892 -0.64086545 -0.1248648  -0.05651829 -0.2141502\n",
      " 12.78556211]\n"
     ]
    },
    {
     "name": "stderr",
     "output_type": "stream",
     "text": [
      "\n"
     ]
    },
    {
     "data": {
      "image/png": "[encoded data removed]",
      "text/plain": [
       "<Figure size 504x360 with 1 Axes>"
      ]
     },
     "metadata": {
      "needs_background": "light"
     },
     "output_type": "display_data"
    }
   ],
   "source": [
    "reg2 = Regressor(df2.values[:,0:-1], df2.values[:,-1], learning_rate= 0.001, tol = 0.001, iterations = 50000, reg_param = 0.03\n",
    "               , gd = True, regp = False)\n",
    "reg2.fit()\n",
    "reg2.plotError()"
   ]
  },
  {
   "cell_type": "code",
   "execution_count": 82,
   "id": "a065c3ae",
   "metadata": {},
   "outputs": [
    {
     "data": {
      "text/plain": [
       "0.5774229134496307"
      ]
     },
     "execution_count": 82,
     "metadata": {},
     "output_type": "execute_result"
    }
   ],
   "source": [
    "reg2.score(reg2.x_test,reg2.y_test)"
   ]
  },
  {
   "cell_type": "code",
   "execution_count": null,
   "id": "54b65581",
   "metadata": {},
   "outputs": [],
   "source": []
  },
  {
   "cell_type": "code",
   "execution_count": null,
   "id": "e99d4ec7",
   "metadata": {},
   "outputs": [],
   "source": []
  },
  {
   "cell_type": "code",
   "execution_count": null,
   "id": "5b960acc",
   "metadata": {},
   "outputs": [],
   "source": []
  },
  {
   "cell_type": "code",
   "execution_count": null,
   "id": "c8d39df9",
   "metadata": {},
   "outputs": [],
   "source": []
  },
  {
   "cell_type": "code",
   "execution_count": null,
   "id": "65d33eee",
   "metadata": {},
   "outputs": [],
   "source": []
  },
  {
   "cell_type": "code",
   "execution_count": null,
   "id": "75cff85b",
   "metadata": {},
   "outputs": [],
   "source": []
  },
  {
   "cell_type": "code",
   "execution_count": null,
   "id": "ab74e810",
   "metadata": {},
   "outputs": [],
   "source": []
  }
 ],
 "metadata": {
  "kernelspec": {
   "display_name": "Python 3 (ipykernel)",
   "language": "python",
   "name": "python3"
  },
  "language_info": {
   "codemirror_mode": {
    "name": "ipython",
    "version": 3
   },
   "file_extension": ".py",
   "mimetype": "text/x-python",
   "name": "python",
   "nbconvert_exporter": "python",
   "pygments_lexer": "ipython3",
   "version": "3.9.7"
  }
 },
 "nbformat": 4,
 "nbformat_minor": 5
}
