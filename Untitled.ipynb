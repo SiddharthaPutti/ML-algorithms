{
 "cells": [
  {
   "cell_type": "code",
   "execution_count": 2,
   "id": "21099f54",
   "metadata": {},
   "outputs": [],
   "source": [
    "import pandas as pd\n",
    "\n",
    "from scipy.io import arff"
   ]
  },
  {
   "cell_type": "code",
   "execution_count": 7,
   "id": "6529ee79",
   "metadata": {},
   "outputs": [],
   "source": [
    "pd.set_option('display.max_rows', None)"
   ]
  },
  {
   "cell_type": "code",
   "execution_count": 8,
   "id": "a5a94c83",
   "metadata": {},
   "outputs": [
    {
     "data": {
      "text/plain": [
       "Attr1        3\n",
       "Attr2        3\n",
       "Attr3        3\n",
       "Attr4       30\n",
       "Attr5        8\n",
       "Attr6        3\n",
       "Attr7        3\n",
       "Attr8       25\n",
       "Attr9        1\n",
       "Attr10       3\n",
       "Attr11      39\n",
       "Attr12      30\n",
       "Attr13       0\n",
       "Attr14       3\n",
       "Attr15       2\n",
       "Attr16      25\n",
       "Attr17      25\n",
       "Attr18       3\n",
       "Attr19       0\n",
       "Attr20       0\n",
       "Attr21    1622\n",
       "Attr22       3\n",
       "Attr23       0\n",
       "Attr24     124\n",
       "Attr25       3\n",
       "Attr26      25\n",
       "Attr27     311\n",
       "Attr28      34\n",
       "Attr29       3\n",
       "Attr30       0\n",
       "Attr31       0\n",
       "Attr32      38\n",
       "Attr33      30\n",
       "Attr34      25\n",
       "Attr35       3\n",
       "Attr36       3\n",
       "Attr37    2740\n",
       "Attr38       3\n",
       "Attr39       0\n",
       "Attr40      30\n",
       "Attr41      84\n",
       "Attr42       0\n",
       "Attr43       0\n",
       "Attr44       0\n",
       "Attr45     134\n",
       "Attr46      31\n",
       "Attr47      29\n",
       "Attr48       3\n",
       "Attr49       0\n",
       "Attr50      25\n",
       "Attr51       3\n",
       "Attr52      29\n",
       "Attr53      34\n",
       "Attr54      34\n",
       "Attr55       0\n",
       "Attr56       0\n",
       "Attr57       1\n",
       "Attr58       0\n",
       "Attr59       1\n",
       "Attr60     135\n",
       "Attr61      22\n",
       "Attr62       0\n",
       "Attr63      30\n",
       "Attr64      34\n",
       "class        0\n",
       "dtype: int64"
      ]
     },
     "execution_count": 8,
     "metadata": {},
     "output_type": "execute_result"
    }
   ],
   "source": [
    "data = arff.loadarff('C:/Users/sid31/Downloads/New folder/semester 2/machine learning/projectAB/data/1year.arff')\n",
    "df = pd.DataFrame(data[0])\n",
    "df.isna().sum()"
   ]
  },
  {
   "cell_type": "code",
   "execution_count": null,
   "id": "c72d1244",
   "metadata": {},
   "outputs": [],
   "source": []
  }
 ],
 "metadata": {
  "kernelspec": {
   "display_name": "Python 3 (ipykernel)",
   "language": "python",
   "name": "python3"
  },
  "language_info": {
   "codemirror_mode": {
    "name": "ipython",
    "version": 3
   },
   "file_extension": ".py",
   "mimetype": "text/x-python",
   "name": "python",
   "nbconvert_exporter": "python",
   "pygments_lexer": "ipython3",
   "version": "3.9.7"
  }
 },
 "nbformat": 4,
 "nbformat_minor": 5
}
