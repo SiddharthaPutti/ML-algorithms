{
 "cells": [
  {
   "cell_type": "code",
   "execution_count": 2,
   "id": "dc0c75c6",
   "metadata": {},
   "outputs": [],
   "source": [
    "import numpy as np \n",
    "import pandas as pd \n",
    "from sklearn.model_selection import train_test_split\n",
    "from tqdm import tqdm\n",
    "import math \n",
    "import matplotlib.pyplot as plt "
   ]
  },
  {
   "cell_type": "code",
   "execution_count": 3,
   "id": "000cda7c",
   "metadata": {},
   "outputs": [],
   "source": [
    "df = pd.read_csv('C:/Users/sid31/Downloads/New folder/semester 2/machine learning/project/data/Kaggle-data.csv',low_memory=False)"
   ]
  },
  {
   "cell_type": "code",
   "execution_count": 4,
   "id": "3f7d7dac",
   "metadata": {},
   "outputs": [
    {
     "data": {
      "text/html": [
       "<div>\n",
       "<style scoped>\n",
       "    .dataframe tbody tr th:only-of-type {\n",
       "        vertical-align: middle;\n",
       "    }\n",
       "\n",
       "    .dataframe tbody tr th {\n",
       "        vertical-align: top;\n",
       "    }\n",
       "\n",
       "    .dataframe thead th {\n",
       "        text-align: right;\n",
       "    }\n",
       "</style>\n",
       "<table border=\"1\" class=\"dataframe\">\n",
       "  <thead>\n",
       "    <tr style=\"text-align: right;\">\n",
       "      <th></th>\n",
       "      <th>ID</th>\n",
       "      <th>md5</th>\n",
       "      <th>Machine</th>\n",
       "      <th>SizeOfOptionalHeader</th>\n",
       "      <th>Characteristics</th>\n",
       "      <th>MajorLinkerVersion</th>\n",
       "      <th>MinorLinkerVersion</th>\n",
       "      <th>SizeOfCode</th>\n",
       "      <th>SizeOfInitializedData</th>\n",
       "      <th>SizeOfUninitializedData</th>\n",
       "      <th>...</th>\n",
       "      <th>ResourcesMeanEntropy</th>\n",
       "      <th>ResourcesMinEntropy</th>\n",
       "      <th>ResourcesMaxEntropy</th>\n",
       "      <th>ResourcesMeanSize</th>\n",
       "      <th>ResourcesMinSize</th>\n",
       "      <th>ResourcesMaxSize</th>\n",
       "      <th>LoadConfigurationSize</th>\n",
       "      <th>VersionInformationSize</th>\n",
       "      <th>legitimate</th>\n",
       "      <th>Unnamed: 57</th>\n",
       "    </tr>\n",
       "  </thead>\n",
       "  <tbody>\n",
       "    <tr>\n",
       "      <th>0</th>\n",
       "      <td>1</td>\n",
       "      <td>b69acb3bb133974e48229627663f96d4</td>\n",
       "      <td>332</td>\n",
       "      <td>224</td>\n",
       "      <td>8450</td>\n",
       "      <td>8.0</td>\n",
       "      <td>0</td>\n",
       "      <td>16896</td>\n",
       "      <td>8192</td>\n",
       "      <td>0</td>\n",
       "      <td>...</td>\n",
       "      <td>3.492126</td>\n",
       "      <td>3.492126</td>\n",
       "      <td>3.492126</td>\n",
       "      <td>864.0</td>\n",
       "      <td>864.0</td>\n",
       "      <td>864</td>\n",
       "      <td>72</td>\n",
       "      <td>0</td>\n",
       "      <td>1</td>\n",
       "      <td>NaN</td>\n",
       "    </tr>\n",
       "    <tr>\n",
       "      <th>1</th>\n",
       "      <td>2</td>\n",
       "      <td>1cbee4b3725629bd0aa6ac2ff500925f</td>\n",
       "      <td>332</td>\n",
       "      <td>224</td>\n",
       "      <td>258</td>\n",
       "      <td>9.0</td>\n",
       "      <td>0</td>\n",
       "      <td>84480</td>\n",
       "      <td>25600</td>\n",
       "      <td>0</td>\n",
       "      <td>...</td>\n",
       "      <td>3.486827</td>\n",
       "      <td>3.486827</td>\n",
       "      <td>3.486827</td>\n",
       "      <td>892.0</td>\n",
       "      <td>892.0</td>\n",
       "      <td>892</td>\n",
       "      <td>72</td>\n",
       "      <td>0</td>\n",
       "      <td>1</td>\n",
       "      <td>NaN</td>\n",
       "    </tr>\n",
       "    <tr>\n",
       "      <th>2</th>\n",
       "      <td>3</td>\n",
       "      <td>b7027cf0cd31c820928950cbfe7e91ef</td>\n",
       "      <td>332</td>\n",
       "      <td>224</td>\n",
       "      <td>8450</td>\n",
       "      <td>8.0</td>\n",
       "      <td>0</td>\n",
       "      <td>4608</td>\n",
       "      <td>3584</td>\n",
       "      <td>0</td>\n",
       "      <td>...</td>\n",
       "      <td>3.517270</td>\n",
       "      <td>3.517270</td>\n",
       "      <td>3.517270</td>\n",
       "      <td>952.0</td>\n",
       "      <td>952.0</td>\n",
       "      <td>952</td>\n",
       "      <td>72</td>\n",
       "      <td>0</td>\n",
       "      <td>1</td>\n",
       "      <td>NaN</td>\n",
       "    </tr>\n",
       "    <tr>\n",
       "      <th>3</th>\n",
       "      <td>4</td>\n",
       "      <td>156a0bb069f94d1e7c2508318805f2a4</td>\n",
       "      <td>332</td>\n",
       "      <td>224</td>\n",
       "      <td>8450</td>\n",
       "      <td>10.0</td>\n",
       "      <td>0</td>\n",
       "      <td>108544</td>\n",
       "      <td>15872</td>\n",
       "      <td>0</td>\n",
       "      <td>...</td>\n",
       "      <td>3.270559</td>\n",
       "      <td>3.034188</td>\n",
       "      <td>3.506931</td>\n",
       "      <td>1032.0</td>\n",
       "      <td>972.0</td>\n",
       "      <td>1092</td>\n",
       "      <td>72</td>\n",
       "      <td>0</td>\n",
       "      <td>1</td>\n",
       "      <td>NaN</td>\n",
       "    </tr>\n",
       "    <tr>\n",
       "      <th>4</th>\n",
       "      <td>5</td>\n",
       "      <td>c72bf851fed5542abba904b1f3944cd5</td>\n",
       "      <td>332</td>\n",
       "      <td>224</td>\n",
       "      <td>8226</td>\n",
       "      <td>48.0</td>\n",
       "      <td>0</td>\n",
       "      <td>513024</td>\n",
       "      <td>2048</td>\n",
       "      <td>0</td>\n",
       "      <td>...</td>\n",
       "      <td>3.420977</td>\n",
       "      <td>3.420977</td>\n",
       "      <td>3.420977</td>\n",
       "      <td>954.0</td>\n",
       "      <td>954.0</td>\n",
       "      <td>954</td>\n",
       "      <td>0</td>\n",
       "      <td>0</td>\n",
       "      <td>1</td>\n",
       "      <td>NaN</td>\n",
       "    </tr>\n",
       "  </tbody>\n",
       "</table>\n",
       "<p>5 rows × 58 columns</p>\n",
       "</div>"
      ],
      "text/plain": [
       "   ID                               md5 Machine  SizeOfOptionalHeader  \\\n",
       "0   1  b69acb3bb133974e48229627663f96d4     332                   224   \n",
       "1   2  1cbee4b3725629bd0aa6ac2ff500925f     332                   224   \n",
       "2   3  b7027cf0cd31c820928950cbfe7e91ef     332                   224   \n",
       "3   4  156a0bb069f94d1e7c2508318805f2a4     332                   224   \n",
       "4   5  c72bf851fed5542abba904b1f3944cd5     332                   224   \n",
       "\n",
       "   Characteristics  MajorLinkerVersion  MinorLinkerVersion  SizeOfCode  \\\n",
       "0             8450                 8.0                   0       16896   \n",
       "1              258                 9.0                   0       84480   \n",
       "2             8450                 8.0                   0        4608   \n",
       "3             8450                10.0                   0      108544   \n",
       "4             8226                48.0                   0      513024   \n",
       "\n",
       "   SizeOfInitializedData  SizeOfUninitializedData  ...  ResourcesMeanEntropy  \\\n",
       "0                   8192                        0  ...              3.492126   \n",
       "1                  25600                        0  ...              3.486827   \n",
       "2                   3584                        0  ...              3.517270   \n",
       "3                  15872                        0  ...              3.270559   \n",
       "4                   2048                        0  ...              3.420977   \n",
       "\n",
       "   ResourcesMinEntropy  ResourcesMaxEntropy  ResourcesMeanSize  \\\n",
       "0             3.492126             3.492126              864.0   \n",
       "1             3.486827             3.486827              892.0   \n",
       "2             3.517270             3.517270              952.0   \n",
       "3             3.034188             3.506931             1032.0   \n",
       "4             3.420977             3.420977              954.0   \n",
       "\n",
       "   ResourcesMinSize  ResourcesMaxSize  LoadConfigurationSize  \\\n",
       "0             864.0               864                     72   \n",
       "1             892.0               892                     72   \n",
       "2             952.0               952                     72   \n",
       "3             972.0              1092                     72   \n",
       "4             954.0               954                      0   \n",
       "\n",
       "   VersionInformationSize  legitimate  Unnamed: 57  \n",
       "0                       0           1          NaN  \n",
       "1                       0           1          NaN  \n",
       "2                       0           1          NaN  \n",
       "3                       0           1          NaN  \n",
       "4                       0           1          NaN  \n",
       "\n",
       "[5 rows x 58 columns]"
      ]
     },
     "execution_count": 4,
     "metadata": {},
     "output_type": "execute_result"
    }
   ],
   "source": [
    "df.head()"
   ]
  },
  {
   "cell_type": "code",
   "execution_count": 5,
   "id": "7c181a93",
   "metadata": {},
   "outputs": [],
   "source": [
    "df.drop(['ID','md5','Unnamed: 57'],axis=1,inplace= True)"
   ]
  },
  {
   "cell_type": "code",
   "execution_count": 6,
   "id": "bdac6bbb",
   "metadata": {},
   "outputs": [
    {
     "data": {
      "text/plain": [
       "array(['332', '34404', '450', '422', '512', '43620',\n",
       "       '3ab1aa9785d0681434766bb0ffc4a13c', '452'], dtype=object)"
      ]
     },
     "execution_count": 6,
     "metadata": {},
     "output_type": "execute_result"
    }
   ],
   "source": [
    "df.dtypes # machine has the obeject dtype, lets find unique values \n",
    "df['Machine'].unique()"
   ]
  },
  {
   "cell_type": "code",
   "execution_count": 7,
   "id": "860cbfe1",
   "metadata": {},
   "outputs": [
    {
     "data": {
      "text/plain": [
       "(1, 55)"
      ]
     },
     "execution_count": 7,
     "metadata": {},
     "output_type": "execute_result"
    }
   ],
   "source": [
    "k = df[df['Machine'] == '3ab1aa9785d0681434766bb0ffc4a13c']\n",
    "k.shape # only one machine name treated as outlier , so removing the follownig"
   ]
  },
  {
   "cell_type": "code",
   "execution_count": 8,
   "id": "6545c99a",
   "metadata": {},
   "outputs": [],
   "source": [
    "df = df[df.Machine != '3ab1aa9785d0681434766bb0ffc4a13c']\n",
    "df.dropna(inplace= True)"
   ]
  },
  {
   "cell_type": "code",
   "execution_count": 9,
   "id": "32ab2026",
   "metadata": {},
   "outputs": [
    {
     "data": {
      "text/plain": [
       "Machine                        0\n",
       "SizeOfOptionalHeader           0\n",
       "Characteristics                0\n",
       "MajorLinkerVersion             0\n",
       "MinorLinkerVersion             0\n",
       "SizeOfCode                     0\n",
       "SizeOfInitializedData          0\n",
       "SizeOfUninitializedData        0\n",
       "AddressOfEntryPoint            0\n",
       "BaseOfCode                     0\n",
       "BaseOfData                     0\n",
       "ImageBase                      0\n",
       "SectionAlignment               0\n",
       "FileAlignment                  0\n",
       "MajorOperatingSystemVersion    0\n",
       "MinorOperatingSystemVersion    0\n",
       "MajorImageVersion              0\n",
       "MinorImageVersion              0\n",
       "MajorSubsystemVersion          0\n",
       "MinorSubsystemVersion          0\n",
       "SizeOfImage                    0\n",
       "SizeOfHeaders                  0\n",
       "CheckSum                       0\n",
       "Subsystem                      0\n",
       "DllCharacteristics             0\n",
       "SizeOfStackReserve             0\n",
       "SizeOfStackCommit              0\n",
       "SizeOfHeapReserve              0\n",
       "SizeOfHeapCommit               0\n",
       "LoaderFlags                    0\n",
       "NumberOfRvaAndSizes            0\n",
       "SectionsNb                     0\n",
       "SectionsMeanEntropy            0\n",
       "SectionsMinEntropy             0\n",
       "SectionsMaxEntropy             0\n",
       "SectionsMeanRawsize            0\n",
       "SectionsMinRawsize             0\n",
       "SectionMaxRawsize              0\n",
       "SectionsMeanVirtualsize        0\n",
       "SectionsMinVirtualsize         0\n",
       "SectionMaxVirtualsize          0\n",
       "ImportsNbDLL                   0\n",
       "ImportsNb                      0\n",
       "ImportsNbOrdinal               0\n",
       "ExportNb                       0\n",
       "ResourcesNb                    0\n",
       "ResourcesMeanEntropy           0\n",
       "ResourcesMinEntropy            0\n",
       "ResourcesMaxEntropy            0\n",
       "ResourcesMeanSize              0\n",
       "ResourcesMinSize               0\n",
       "ResourcesMaxSize               0\n",
       "LoadConfigurationSize          0\n",
       "VersionInformationSize         0\n",
       "legitimate                     0\n",
       "dtype: int64"
      ]
     },
     "execution_count": 9,
     "metadata": {},
     "output_type": "execute_result"
    }
   ],
   "source": [
    "df.isna().sum() # no NAN values present but a dtype object is listed - lets convert to int type"
   ]
  },
  {
   "cell_type": "code",
   "execution_count": 10,
   "id": "cc34f20b",
   "metadata": {},
   "outputs": [],
   "source": [
    "df['Machine'] = df['Machine'].astype(str).astype(int)"
   ]
  },
  {
   "cell_type": "code",
   "execution_count": 11,
   "id": "f734736b",
   "metadata": {},
   "outputs": [],
   "source": [
    "class normalise_data:\n",
    "    def __init__(self):\n",
    "        self.mean = None\n",
    "        self.std = None\n",
    "        \n",
    "    def norm_data(self, data):\n",
    "        self.mean = np.mean(data, 0)\n",
    "        self.std = np.std(data, 0)\n",
    "        normalise_data = (data - self.mean) / self.std\n",
    "        normalise_data = self.addBias(normalise_data)\n",
    "        return normalise_data\n",
    "    \n",
    "    def norm_test_data(self,data):\n",
    "        norm_test_data = (data - self.mean) / self.std\n",
    "        norm_test_data = self.addBias(norm_test_data)\n",
    "        return norm_test_data\n",
    "    \n",
    "    def addBias(self, data):\n",
    "        return np.column_stack([np.ones((data.shape[0],1)),data])"
   ]
  },
  {
   "cell_type": "code",
   "execution_count": 12,
   "id": "d8d88c27",
   "metadata": {},
   "outputs": [],
   "source": [
    "x_train , x_test, y_train, y_test = train_test_split(df.values[:,0:-1],df.values[:,-1], test_size = 0.3, random_state = 0)\n",
    "scale = normalise_data()\n",
    "X_train = scale.norm_data(x_train)\n",
    "X_test = scale.norm_test_data(x_test)"
   ]
  },
  {
   "cell_type": "code",
   "execution_count": 13,
   "id": "3bc3ab54",
   "metadata": {},
   "outputs": [
    {
     "data": {
      "text/plain": [
       "(64905, 55)"
      ]
     },
     "execution_count": 13,
     "metadata": {},
     "output_type": "execute_result"
    }
   ],
   "source": [
    "X_test.shape"
   ]
  },
  {
   "cell_type": "code",
   "execution_count": 12,
   "id": "178d2ae9",
   "metadata": {},
   "outputs": [],
   "source": [
    "\n",
    "# never use PCA for model performance, use only for visualising\n",
    "#first try optimising using original features and compare your models \n",
    "# if everything isnt working then try using principle components\n",
    "'''\n",
    "class PCA:\n",
    "    def __init__(self, n_components):\n",
    "        self.n_components = n_components\n",
    "        self.component = None\n",
    "        #self.mean = None\n",
    "        \n",
    "    def fit(self, X):\n",
    "        #self.mean = np.mean(X, axis = 0)\n",
    "        #X = X - self.mean\n",
    "        \n",
    "        cov = np.cov(X.T)\n",
    "        eigenValues, eigenVectors = np.linalg.eig(cov)\n",
    "        eigenVectors = eigenVectors.T\n",
    "        \n",
    "        ids = np.argsort(eigenValues)[::-1]\n",
    "        eigenValues = eigenValues[ids]\n",
    "        eigenVectors = eigenVectors[ids]\n",
    "        \n",
    "        self.component = eigenVectors[0: self.n_components]\n",
    "        \n",
    "    def transform(self,X):\n",
    "        #X = X - self.mean\n",
    "        return np.dot(X, self.component.T)\n",
    "        \n",
    "'''\n",
    "        "
   ]
  },
  {
   "cell_type": "code",
   "execution_count": 21,
   "id": "69a8ddd2",
   "metadata": {},
   "outputs": [
    {
     "name": "stdout",
     "output_type": "stream",
     "text": [
      "6\n"
     ]
    }
   ],
   "source": [
    "\n",
    "# This part of code shows how many principle components to select using the formula \n",
    "\n",
    "#  k\n",
    "# sigma Si\n",
    "# i = 1\n",
    "# _________   > 0.99      that is 99% of the varience is captured using PCA \n",
    "#   n\n",
    "# sigma Si\n",
    "# i = 1\n",
    "\n",
    "# where Si are the eigen values returned as a diagonol matrix\n",
    "'''\n",
    "\n",
    "k_m = [3,4,5,6,10]\n",
    "sum_k = 0\n",
    "total= 0\n",
    "max_k = 0\n",
    "for k in k_m:\n",
    "    cov = np.cov(X_train.T)\n",
    "    u , s, v = np.linalg.svd(cov)\n",
    "    for i in range(k):\n",
    "        sum_k+= s[i]\n",
    "        #print(s[i])\n",
    "    total = sum(s)\n",
    "    max_k = sum_k/total\n",
    "    #print(max_k)\n",
    "    if max_k > 0.99:\n",
    "        print(k)\n",
    "        break\n",
    "\n",
    "'''"
   ]
  },
  {
   "cell_type": "code",
   "execution_count": 19,
   "id": "34bc8772",
   "metadata": {},
   "outputs": [],
   "source": [
    "'''\n",
    "model = PCA(n_components = 10)\n",
    "model.fit(X_train)\n",
    "x_projected = model.transform(X_train)\n",
    "x_test_projected = model.transform(X_test)\n",
    "'''"
   ]
  },
  {
   "cell_type": "code",
   "execution_count": 15,
   "id": "9988a0c8",
   "metadata": {},
   "outputs": [
    {
     "name": "stdout",
     "output_type": "stream",
     "text": [
      "[[40023  2242]\n",
      " [ 2677 19963]]\n"
     ]
    },
    {
     "data": {
      "text/plain": [
       "0.9242123102996688"
      ]
     },
     "execution_count": 15,
     "metadata": {},
     "output_type": "execute_result"
    }
   ],
   "source": [
    "from sklearn.svm import SVC \n",
    "from sklearn.metrics import confusion_matrix, accuracy_score \n",
    "classifier = SVC(kernel = 'rbf', random_state = 0) \n",
    "classifier.fit(x_projected, y_train) \n",
    "y_pred = classifier.predict(x_test_projected) \n",
    "cm = confusion_matrix(y_test, y_pred) \n",
    "print(cm) \n",
    "accuracy_score(y_test,y_pred)"
   ]
  },
  {
   "cell_type": "code",
   "execution_count": 43,
   "id": "8b655007",
   "metadata": {},
   "outputs": [],
   "source": [
    "class logitRegressor():\n",
    "    def __init__(self, X_train,y_train,\n",
    "                            x_test, y_test,\n",
    "                 reg_param,\n",
    "                 iterations,\n",
    "                 tol,\n",
    "                 SGDiterations,\n",
    "                 thresh, \n",
    "                 gd = False, \n",
    "                 sgd = False, \n",
    "                 reg = False):\n",
    "        \n",
    "        \n",
    "        self.reg_param = reg_param\n",
    "        self.gd = gd\n",
    "        self.sgd = sgd\n",
    "        self.reg = reg\n",
    "        self.iterations = iterations \n",
    "        self.tol = tol \n",
    "        self.SGDiterations = SGDiterations\n",
    "        self.thresh = thresh\n",
    "        self.X = X_train\n",
    "        self.y = y_train \n",
    "        self.x_test = x_test\n",
    "        self.y_test = y_test\n",
    "        self.spe = []\n",
    "        self.sen = []\n",
    "        self.min_lr = 1e-5\n",
    "        self.max_lr = 1e-2\n",
    "        \n",
    "        \n",
    "        \n",
    "    def fit(self):\n",
    "        if not self.sgd:\n",
    "            #self.theta = np.ones(self.X.shape[1], dtype = np.float64) *0\n",
    "            if not self.reg:\n",
    "                print(\"gradient without regularization...\")\n",
    "                self.gradientUpdate(self.X,self.y)\n",
    "                \n",
    "            if not self.sgd and self.reg:\n",
    "                print(\"gradient descent using regularization...\")\n",
    "                self.gradientUpdateWithReg(self.X,self.y)\n",
    "            \n",
    "        \n",
    "    def costFunc(self, X, y):\n",
    "        cost = - y * (np.log(self.sigmoid(np.dot(X,self.theta)))) - (1 - y) * (np.log(1 - self.sigmoid(np.dot(X,self.theta)))) \n",
    "        return np.sum(cost) / X.shape[0]\n",
    "        \n",
    "    def costFuncDerivative(self, X, y):\n",
    "        return np.dot(self.sigmoid(np.dot(self.theta,X.T)) - y, X )\n",
    "        \n",
    "    def predict(self, X):\n",
    "        pred =  1 / (1 + np.exp(- X.dot(self.theta)))\n",
    "        for t in self.thresh:\n",
    "            y_pred =  np.where(pred >t , 1,0 )\n",
    "            true_positive_rate , false_positive_rate = self.roc(y_pred, self.y_test)\n",
    "            self.spe.append(false_positive_rate)\n",
    "            self.sen.append(true_positive_rate)\n",
    "\n",
    "\n",
    "        #return y_pred\n",
    "    \n",
    "    \n",
    "    def sigmoid(self,z):\n",
    "        return 1 / (1+np.exp(-z))\n",
    "        \n",
    "    def roc(self,y_pred,y):\n",
    "        # tn / tn + fp\n",
    "        tp = 0 \n",
    "        tn = 0\n",
    "        fp = 0\n",
    "        fn = 0\n",
    "        #print(tre)\n",
    "        #y_pred = self.predict(X,tre)\n",
    "        for i in range(len(y_pred)):\n",
    "            if y_pred[i] == 1 and y[i] == 1:\n",
    "                tp+= 1\n",
    "            if y_pred[i] == 1 and y[i] == 0:\n",
    "                fp+= 1\n",
    "            if y_pred[i] == 0 and y[i] == 1:\n",
    "                tn+= 1\n",
    "            if y_pred[i] == 0 and y[i] == 0:\n",
    "                fn+= 1\n",
    "        \n",
    "        print(\"tp\", tp)\n",
    "        print(\"fp\", fp)\n",
    "        print(\"tn\", tn)\n",
    "        print(\"fn\", fn)\n",
    "        sensitivity = tp / (tp + fn)\n",
    "        specificity = fp / (tn + fp)\n",
    "        return sensitivity, specificity\n",
    "        \n",
    "    \n",
    "    def gradientUpdate(self, X, y):\n",
    "        prev_error = float('inf')\n",
    "        #for tre in range(len(self.thresh)):\n",
    "        self.learning_rate = self.min_lr\n",
    "        self.theta = np.ones(X.shape[1], dtype = np.float64) *0\n",
    "        for t in tqdm(range(self.iterations)):\n",
    "            self.theta = self.theta - self.learning_rate * (self.costFuncDerivative(X,y))\n",
    "            curr = self.costFunc(X,y)\n",
    "            diff = prev_error - curr\n",
    "            prev_error = curr\n",
    "            update_lr = t / self.iterations\n",
    "            self.learning_rate = self.min_lr + (self.max_lr - self.min_lr) * update_lr\n",
    "            if abs(diff) < self.tol: # in real life you need to wait patience* until certain iterations before you break\n",
    "                print(\"model stopped - no further updating\")\n",
    "                break\n",
    "\n",
    "        #sen, spe = self.roc(self.x_test,self.y_test,self.thresh[tre])\n",
    "        #self.spe.append(spe)\n",
    "        #self.sen.append(sen)\n",
    "            \n",
    "    def gradientUpdateWithReg(self, X,y):\n",
    "        prev_error = float('inf')\n",
    "        self.learning_rate = self.min_lr\n",
    "        self.theta = np.ones(X.shape[1], dtype = np.float64) *0\n",
    "        for t in tqdm(range(self.iterations)):\n",
    "            weights = self.theta * (1 - (self.reg_param) * (self.learning_rate / X.shape[0]))\n",
    "            self.theta = weights - self.learning_rate * (self.costFuncDerivative(X,y) / X.shape[0])\n",
    "\n",
    "            curr = self.costFunc(X,y)\n",
    "            diff = prev_error - curr\n",
    "            prev_error = curr\n",
    "            update_lr = t / self.iterations\n",
    "            self.learning_rate = self.min_lr + (self.max_lr - self.min_lr) * update_lr\n",
    "            if abs(diff) < self.tol: # in real life you need to wait patience* until certain iterations before you break\n",
    "                print(\"model stopped - no further updating\")\n",
    "                break\n",
    "\n",
    "        #sen, spe = self.roc(self.x_test,self.y_test,self.thresh[tre])\n",
    "        #self.spe.append(spe)\n",
    "        #self.sen.append(sen)\n",
    "            \n",
    "    def plotRoc(self, figsize = (7,5)):\n",
    "        plt.figure(figsize=figsize)\n",
    "        plt.plot(self.sen,self.spe)\n",
    "        plt.xlabel('false positive rate')\n",
    "        plt.ylabel('true positive rate')\n",
    "        plt.title(\"ROC Curve\")\n",
    "        plt.show()\n",
    "        \n",
    "  "
   ]
  },
  {
   "cell_type": "code",
   "execution_count": null,
   "id": "ab356669",
   "metadata": {},
   "outputs": [],
   "source": []
  },
  {
   "cell_type": "code",
   "execution_count": 44,
   "id": "3b93f652",
   "metadata": {},
   "outputs": [
    {
     "name": "stdout",
     "output_type": "stream",
     "text": [
      "gradient without regularization...\n"
     ]
    },
    {
     "name": "stderr",
     "output_type": "stream",
     "text": [
      "  0%|▏                                                                              | 21/10000 [00:00<03:25, 48.49it/s]\n"
     ]
    },
    {
     "name": "stdout",
     "output_type": "stream",
     "text": [
      "model stopped - no further updating\n",
      "tp 22470\n",
      "fp 25988\n",
      "tn 170\n",
      "fn 16277\n",
      "tp 22073\n",
      "fp 9030\n",
      "tn 567\n",
      "fn 33235\n",
      "tp 22004\n",
      "fp 8357\n",
      "tn 636\n",
      "fn 33908\n",
      "tp 21664\n",
      "fp 6026\n",
      "tn 976\n",
      "fn 36239\n",
      "tp 21351\n",
      "fp 4384\n",
      "tn 1289\n",
      "fn 37881\n",
      "tp 20795\n",
      "fp 2880\n",
      "tn 1845\n",
      "fn 39385\n"
     ]
    },
    {
     "data": {
      "image/png": "[encoded data removed]",
      "text/plain": [
       "<Figure size 504x360 with 1 Axes>"
      ]
     },
     "metadata": {
      "needs_background": "light"
     },
     "output_type": "display_data"
    }
   ],
   "source": [
    "modellogit = logitRegressor(X_train,y_train,\n",
    "                            X_test, y_test, \n",
    "                            reg_param = 0.03\n",
    "                            ,iterations = 10000\n",
    "                            ,tol = 0.0005\n",
    "                            ,SGDiterations = 10\n",
    "                            ,thresh = [0.03,0.09,0.1,0.15,0.2,0.3]\n",
    "                            , gd = True, sgd = False, reg = False)\n",
    "modellogit.fit()\n",
    "modellogit.predict(modellogit.x_test)\n",
    "modellogit.plotRoc()"
   ]
  },
  {
   "cell_type": "code",
   "execution_count": 46,
   "id": "7948a4d5",
   "metadata": {},
   "outputs": [
    {
     "name": "stdout",
     "output_type": "stream",
     "text": [
      "gradient descent using regularization...\n"
     ]
    },
    {
     "name": "stderr",
     "output_type": "stream",
     "text": [
      "100%|████████████████████████████████████████████████████████████████████████████| 10000/10000 [03:28<00:00, 47.97it/s]\n"
     ]
    },
    {
     "name": "stdout",
     "output_type": "stream",
     "text": [
      "tp 22489\n",
      "fp 27424\n",
      "tn 151\n",
      "fn 14841\n",
      "tp 22126\n",
      "fp 10293\n",
      "tn 514\n",
      "fn 31972\n",
      "tp 22056\n",
      "fp 9053\n",
      "tn 584\n",
      "fn 33212\n",
      "tp 21706\n",
      "fp 6268\n",
      "tn 934\n",
      "fn 35997\n",
      "tp 21402\n",
      "fp 4552\n",
      "tn 1238\n",
      "fn 37713\n",
      "tp 20814\n",
      "fp 2935\n",
      "tn 1826\n",
      "fn 39330\n",
      "tp 17751\n",
      "fp 856\n",
      "tn 4889\n",
      "fn 41409\n"
     ]
    },
    {
     "data": {
      "image/png": "[encoded data removed]",
      "text/plain": [
       "<Figure size 504x360 with 1 Axes>"
      ]
     },
     "metadata": {
      "needs_background": "light"
     },
     "output_type": "display_data"
    }
   ],
   "source": [
    "modellogit1 = logitRegressor(X_train,y_train,\n",
    "                            X_test, y_test, \n",
    "                            reg_param = 0.03\n",
    "                            ,iterations = 10000\n",
    "                            ,tol = 0.000000005\n",
    "                            ,SGDiterations = 10\n",
    "                            ,thresh = [0.03,0.09,0.1,0.15,0.2,0.3,0.7]\n",
    "                            , gd = True, sgd = False, reg = True)\n",
    "modellogit1.fit()\n",
    "modellogit1.predict(modellogit.x_test)\n",
    "modellogit1.plotRoc()"
   ]
  },
  {
   "cell_type": "code",
   "execution_count": 14,
   "id": "391066fc",
   "metadata": {},
   "outputs": [
    {
     "name": "stdout",
     "output_type": "stream",
     "text": [
      "gradient descent using regularization...\n"
     ]
    },
    {
     "name": "stderr",
     "output_type": "stream",
     "text": [
      " 31%|████████████████████████▊                                                      | 314/1000 [00:17<00:39, 17.49it/s]C:\\Users\\sid31\\AppData\\Local\\Temp/ipykernel_26572/3550032786.py:47: RuntimeWarning: divide by zero encountered in log\n",
      "  cost = - y * (np.log(self.predict(X,tre))) - (1 - y) * (np.log(self.predict(X,tre)))\n",
      "C:\\Users\\sid31\\AppData\\Local\\Temp/ipykernel_26572/3550032786.py:47: RuntimeWarning: invalid value encountered in multiply\n",
      "  cost = - y * (np.log(self.predict(X,tre))) - (1 - y) * (np.log(self.predict(X,tre)))\n",
      "100%|██████████████████████████████████████████████████████████████████████████████| 1000/1000 [01:08<00:00, 14.69it/s]\n"
     ]
    },
    {
     "name": "stdout",
     "output_type": "stream",
     "text": [
      "0.1\n",
      "tp 21380\n",
      "fp 5766\n",
      "tn 1260\n",
      "fn 36499\n"
     ]
    },
    {
     "name": "stderr",
     "output_type": "stream",
     "text": [
      "100%|██████████████████████████████████████████████████████████████████████████████| 1000/1000 [01:12<00:00, 13.78it/s]\n"
     ]
    },
    {
     "name": "stdout",
     "output_type": "stream",
     "text": [
      "0.2\n",
      "tp 20976\n",
      "fp 3796\n",
      "tn 1664\n",
      "fn 38469\n"
     ]
    },
    {
     "name": "stderr",
     "output_type": "stream",
     "text": [
      "100%|██████████████████████████████████████████████████████████████████████████████| 1000/1000 [01:16<00:00, 13.11it/s]\n"
     ]
    },
    {
     "name": "stdout",
     "output_type": "stream",
     "text": [
      "0.3\n",
      "tp 20658\n",
      "fp 2903\n",
      "tn 1982\n",
      "fn 39362\n"
     ]
    },
    {
     "name": "stderr",
     "output_type": "stream",
     "text": [
      "100%|██████████████████████████████████████████████████████████████████████████████| 1000/1000 [01:20<00:00, 12.47it/s]\n"
     ]
    },
    {
     "name": "stdout",
     "output_type": "stream",
     "text": [
      "0.4\n",
      "tp 20362\n",
      "fp 3069\n",
      "tn 2278\n",
      "fn 39196\n"
     ]
    },
    {
     "name": "stderr",
     "output_type": "stream",
     "text": [
      "100%|██████████████████████████████████████████████████████████████████████████████| 1000/1000 [01:30<00:00, 11.05it/s]\n"
     ]
    },
    {
     "name": "stdout",
     "output_type": "stream",
     "text": [
      "0.5\n",
      "tp 19981\n",
      "fp 1867\n",
      "tn 2659\n",
      "fn 40398\n"
     ]
    },
    {
     "name": "stderr",
     "output_type": "stream",
     "text": [
      "100%|██████████████████████████████████████████████████████████████████████████████| 1000/1000 [01:36<00:00, 10.39it/s]\n"
     ]
    },
    {
     "name": "stdout",
     "output_type": "stream",
     "text": [
      "0.6\n",
      "tp 19540\n",
      "fp 1724\n",
      "tn 3100\n",
      "fn 40541\n"
     ]
    },
    {
     "name": "stderr",
     "output_type": "stream",
     "text": [
      "100%|██████████████████████████████████████████████████████████████████████████████| 1000/1000 [01:38<00:00, 10.18it/s]\n"
     ]
    },
    {
     "name": "stdout",
     "output_type": "stream",
     "text": [
      "0.7\n",
      "tp 18061\n",
      "fp 1581\n",
      "tn 4579\n",
      "fn 40684\n"
     ]
    },
    {
     "name": "stderr",
     "output_type": "stream",
     "text": [
      "100%|██████████████████████████████████████████████████████████████████████████████| 1000/1000 [01:40<00:00,  9.97it/s]\n"
     ]
    },
    {
     "name": "stdout",
     "output_type": "stream",
     "text": [
      "0.8\n",
      "tp 16794\n",
      "fp 1433\n",
      "tn 5846\n",
      "fn 40832\n"
     ]
    },
    {
     "name": "stderr",
     "output_type": "stream",
     "text": [
      "100%|██████████████████████████████████████████████████████████████████████████████| 1000/1000 [01:40<00:00,  9.94it/s]\n"
     ]
    },
    {
     "name": "stdout",
     "output_type": "stream",
     "text": [
      "0.9\n",
      "tp 15299\n",
      "fp 964\n",
      "tn 7341\n",
      "fn 41301\n"
     ]
    },
    {
     "data": {
      "image/png": "[encoded data removed]",
      "text/plain": [
       "<Figure size 504x360 with 1 Axes>"
      ]
     },
     "metadata": {
      "needs_background": "light"
     },
     "output_type": "display_data"
    }
   ],
   "source": [
    "modellogit3 = logitRegressor(X_train,y_train,\n",
    "                            X_test, y_test, \n",
    "                            reg_param = 0.03\n",
    "                            ,iterations = 1000\n",
    "                            ,tol = 0.00000000000000005\n",
    "                            ,SGDiterations = 10\n",
    "                            ,thresh = [0.1,0.2,0.3,0.4,0.5,0.6,0.7,0.8,0.9]\n",
    "                            , gd = True, sgd = False, reg = True)\n",
    "modellogit3.fit()\n",
    "modellogit3.plotRoc()"
   ]
  },
  {
   "cell_type": "code",
   "execution_count": 4,
   "id": "0468af7b",
   "metadata": {},
   "outputs": [
    {
     "ename": "SyntaxError",
     "evalue": "invalid syntax (Temp/ipykernel_23516/1260563709.py, line 6)",
     "output_type": "error",
     "traceback": [
      "\u001b[1;36m  File \u001b[1;32m\"C:\\Users\\sid31\\AppData\\Local\\Temp/ipykernel_23516/1260563709.py\"\u001b[1;36m, line \u001b[1;32m6\u001b[0m\n\u001b[1;33m    np.where(x == 1 and y ==1, k+=1)\u001b[0m\n\u001b[1;37m                                ^\u001b[0m\n\u001b[1;31mSyntaxError\u001b[0m\u001b[1;31m:\u001b[0m invalid syntax\n"
     ]
    }
   ],
   "source": [
    "x = [0,0,1,1,1,1]\n",
    "y = [1,0,0,1,1,1]\n",
    "k = 0\n",
    "t = 0\n",
    "m = 0\n",
    "np.where(x == 1 and y ==1, k+=1,)\n",
    "k\n",
    "t\n",
    "m"
   ]
  },
  {
   "cell_type": "code",
   "execution_count": null,
   "id": "31c3da8f",
   "metadata": {},
   "outputs": [],
   "source": [
    "cost = - y * (np.log(self.predict(X,tre))) - (1 - y) * (np.log(self.predict(X,tre))) \n",
    "cost = cost.sum()"
   ]
  },
  {
   "cell_type": "code",
   "execution_count": null,
   "id": "35c832d6",
   "metadata": {},
   "outputs": [],
   "source": []
  },
  {
   "cell_type": "code",
   "execution_count": null,
   "id": "cf8182b9",
   "metadata": {},
   "outputs": [],
   "source": [
    "\n"
   ]
  },
  {
   "cell_type": "code",
   "execution_count": null,
   "id": "f8f14168",
   "metadata": {},
   "outputs": [],
   "source": []
  }
 ],
 "metadata": {
  "kernelspec": {
   "display_name": "Python 3 (ipykernel)",
   "language": "python",
   "name": "python3"
  },
  "language_info": {
   "codemirror_mode": {
    "name": "ipython",
    "version": 3
   },
   "file_extension": ".py",
   "mimetype": "text/x-python",
   "name": "python",
   "nbconvert_exporter": "python",
   "pygments_lexer": "ipython3",
   "version": "3.9.7"
  }
 },
 "nbformat": 4,
 "nbformat_minor": 5
}
